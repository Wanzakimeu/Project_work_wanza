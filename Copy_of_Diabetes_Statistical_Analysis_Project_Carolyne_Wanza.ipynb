{
  "nbformat": 4,
  "nbformat_minor": 0,
  "metadata": {
    "colab": {
      "name": "Copy of Diabetes Statistical Analysis Project - Carolyne Wanza",
      "provenance": [],
      "collapsed_sections": [
        "J4wfHZwQrs-t",
        "a9BPYqunry97",
        "7KMRBJ7zr9HD",
        "zSGyg6kWsBUl",
        "HPQviDmNtta8",
        "CbQa-2odZAhb"
      ],
      "toc_visible": true
    },
    "kernelspec": {
      "display_name": "Python 3",
      "language": "python",
      "name": "python3"
    },
    "language_info": {
      "codemirror_mode": {
        "name": "ipython",
        "version": 3
      },
      "file_extension": ".py",
      "mimetype": "text/x-python",
      "name": "python",
      "nbconvert_exporter": "python",
      "pygments_lexer": "ipython3",
      "version": "3.7.4"
    }
  },
  "cells": [
    {
      "cell_type": "markdown",
      "metadata": {
        "id": "kLG2VTrnTvYL"
      },
      "source": [
        "## <font color='#2F4F4F'>1. Defining the Question</font>"
      ]
    },
    {
      "cell_type": "markdown",
      "metadata": {
        "id": "XecOwPNorl2W"
      },
      "source": [
        "### a) Specifying the Data Analysis Question\n",
        "\n",
        "What is your research question? What problem is it that you are trying to solve?\n",
        "\n",
        "to discover the factors that determine whether a patient has diabetes or not"
      ]
    },
    {
      "cell_type": "markdown",
      "metadata": {
        "id": "J4wfHZwQrs-t"
      },
      "source": [
        "### b) Defining the Metric for Success\n",
        "\n",
        "What will convince you that your project has succeeded?\n",
        "\n",
        "when i am able to answer the question."
      ]
    },
    {
      "cell_type": "markdown",
      "metadata": {
        "id": "a9BPYqunry97"
      },
      "source": [
        "### c) Understanding the context \n",
        "\n",
        "The background information surrounding the problem or research question."
      ]
    },
    {
      "cell_type": "markdown",
      "metadata": {
        "id": "7KMRBJ7zr9HD"
      },
      "source": [
        "### d) Recording the Experimental Design\n",
        "\n",
        "The steps you will take from the beginning to the end of this project.\n",
        "read the data\n",
        "check the data and read its shape\n",
        "perform quantile calculation to determne the outliers.\n",
        "use diagrams i.e histograms , bars graphs to interprete the data.\n",
        "read the findings and recommend solutions."
      ]
    },
    {
      "cell_type": "markdown",
      "metadata": {
        "id": "zSGyg6kWsBUl"
      },
      "source": [
        "### e) Data Relevance\n",
        "\n",
        "Is your data relevant to the problem or research question?\n",
        "\n",
        "yes. it has data to answer my question."
      ]
    },
    {
      "cell_type": "markdown",
      "metadata": {
        "id": "iUNbvIvnT7ep"
      },
      "source": [
        "## <font color='#2F4F4F'>2. Data Cleaning & Preparation</font>"
      ]
    },
    {
      "cell_type": "code",
      "metadata": {
        "id": "AMreDPhDZAbP"
      },
      "source": [
        "# load libraries\n",
        "import pandas as pd\n",
        "\n",
        "import matplotlib.pyplot as plt\n",
        "import seaborn as sns"
      ],
      "execution_count": null,
      "outputs": []
    },
    {
      "cell_type": "code",
      "metadata": {
        "id": "XJn2KjW-WMlG",
        "colab": {
          "base_uri": "https://localhost:8080/",
          "height": 143
        },
        "outputId": "88cb3d2f-a46d-4e65-89ca-92cc6854dae9"
      },
      "source": [
        "# load and preview dataset\n",
        "# diabetes = pd.read_csv('https://bit.ly/3eoAbDS')\n",
        "diabetes = pd.read_csv('datasets_185987_416528_diabetes2.csv')\n",
        "diabetes.sample(3)"
      ],
      "execution_count": null,
      "outputs": [
        {
          "output_type": "execute_result",
          "data": {
            "text/html": [
              "<div>\n",
              "<style scoped>\n",
              "    .dataframe tbody tr th:only-of-type {\n",
              "        vertical-align: middle;\n",
              "    }\n",
              "\n",
              "    .dataframe tbody tr th {\n",
              "        vertical-align: top;\n",
              "    }\n",
              "\n",
              "    .dataframe thead th {\n",
              "        text-align: right;\n",
              "    }\n",
              "</style>\n",
              "<table border=\"1\" class=\"dataframe\">\n",
              "  <thead>\n",
              "    <tr style=\"text-align: right;\">\n",
              "      <th></th>\n",
              "      <th>Pregnancies</th>\n",
              "      <th>Glucose</th>\n",
              "      <th>BloodPressure</th>\n",
              "      <th>SkinThickness</th>\n",
              "      <th>Insulin</th>\n",
              "      <th>BMI</th>\n",
              "      <th>DiabetesPedigreeFunction</th>\n",
              "      <th>Age</th>\n",
              "      <th>Outcome</th>\n",
              "    </tr>\n",
              "  </thead>\n",
              "  <tbody>\n",
              "    <tr>\n",
              "      <th>262</th>\n",
              "      <td>4</td>\n",
              "      <td>95</td>\n",
              "      <td>70</td>\n",
              "      <td>32</td>\n",
              "      <td>0</td>\n",
              "      <td>32.1</td>\n",
              "      <td>0.612</td>\n",
              "      <td>24</td>\n",
              "      <td>0</td>\n",
              "    </tr>\n",
              "    <tr>\n",
              "      <th>467</th>\n",
              "      <td>0</td>\n",
              "      <td>97</td>\n",
              "      <td>64</td>\n",
              "      <td>36</td>\n",
              "      <td>100</td>\n",
              "      <td>36.8</td>\n",
              "      <td>0.600</td>\n",
              "      <td>25</td>\n",
              "      <td>0</td>\n",
              "    </tr>\n",
              "    <tr>\n",
              "      <th>645</th>\n",
              "      <td>2</td>\n",
              "      <td>157</td>\n",
              "      <td>74</td>\n",
              "      <td>35</td>\n",
              "      <td>440</td>\n",
              "      <td>39.4</td>\n",
              "      <td>0.134</td>\n",
              "      <td>30</td>\n",
              "      <td>0</td>\n",
              "    </tr>\n",
              "  </tbody>\n",
              "</table>\n",
              "</div>"
            ],
            "text/plain": [
              "     Pregnancies  Glucose  ...  Age  Outcome\n",
              "262            4       95  ...   24        0\n",
              "467            0       97  ...   25        0\n",
              "645            2      157  ...   30        0\n",
              "\n",
              "[3 rows x 9 columns]"
            ]
          },
          "metadata": {},
          "execution_count": 7
        }
      ]
    },
    {
      "cell_type": "code",
      "metadata": {
        "id": "D6g3-iURZAbq",
        "colab": {
          "base_uri": "https://localhost:8080/"
        },
        "outputId": "d9223e17-fcb2-428e-fe2c-729f618d1273"
      },
      "source": [
        "# preview dataset shape\n",
        "\n",
        "diabetes.shape"
      ],
      "execution_count": null,
      "outputs": [
        {
          "output_type": "execute_result",
          "data": {
            "text/plain": [
              "(768, 9)"
            ]
          },
          "metadata": {},
          "execution_count": 8
        }
      ]
    },
    {
      "cell_type": "code",
      "metadata": {
        "id": "wJUqDIg8ZAbu",
        "colab": {
          "base_uri": "https://localhost:8080/"
        },
        "outputId": "087f9aaf-af03-48de-fd20-3fab6984550a"
      },
      "source": [
        "# look for duplicates\n",
        "\n",
        "sum(diabetes.duplicated())"
      ],
      "execution_count": null,
      "outputs": [
        {
          "output_type": "execute_result",
          "data": {
            "text/plain": [
              "0"
            ]
          },
          "metadata": {},
          "execution_count": 9
        }
      ]
    },
    {
      "cell_type": "code",
      "metadata": {
        "id": "7ehwywpWZAby",
        "colab": {
          "base_uri": "https://localhost:8080/"
        },
        "outputId": "8103a0b8-ee20-48cc-f525-e3c0954bb4f9"
      },
      "source": [
        "# look for missing records\n",
        "\n",
        "diabetes.isnull().any()"
      ],
      "execution_count": null,
      "outputs": [
        {
          "output_type": "execute_result",
          "data": {
            "text/plain": [
              "Pregnancies                 False\n",
              "Glucose                     False\n",
              "BloodPressure               False\n",
              "SkinThickness               False\n",
              "Insulin                     False\n",
              "BMI                         False\n",
              "DiabetesPedigreeFunction    False\n",
              "Age                         False\n",
              "Outcome                     False\n",
              "dtype: bool"
            ]
          },
          "metadata": {},
          "execution_count": 9
        }
      ]
    },
    {
      "cell_type": "code",
      "metadata": {
        "id": "_Hfd5Iw4ZAb1",
        "colab": {
          "base_uri": "https://localhost:8080/"
        },
        "outputId": "4e63dbb6-07bf-42e9-f9a9-6790147b02fc"
      },
      "source": [
        "# preview datatypes\n",
        "\n",
        "diabetes.dtypes"
      ],
      "execution_count": null,
      "outputs": [
        {
          "output_type": "execute_result",
          "data": {
            "text/plain": [
              "Pregnancies                   int64\n",
              "Glucose                       int64\n",
              "BloodPressure                 int64\n",
              "SkinThickness                 int64\n",
              "Insulin                       int64\n",
              "BMI                         float64\n",
              "DiabetesPedigreeFunction    float64\n",
              "Age                           int64\n",
              "Outcome                       int64\n",
              "dtype: object"
            ]
          },
          "metadata": {},
          "execution_count": 10
        }
      ]
    },
    {
      "cell_type": "code",
      "metadata": {
        "id": "rLFc529BZAb8",
        "colab": {
          "base_uri": "https://localhost:8080/"
        },
        "outputId": "e15e80df-407d-40f3-fd1a-b9e6585d8ca0"
      },
      "source": [
        "# check for outliers\n",
        "\n",
        "\n",
        "Q1 = diabetes.quantile(0.25)\n",
        "Q3 = diabetes.quantile(0.75)\n",
        "IQR = Q3 - Q1\n",
        "IQR"
      ],
      "execution_count": null,
      "outputs": [
        {
          "output_type": "execute_result",
          "data": {
            "text/plain": [
              "Pregnancies                   5.0000\n",
              "Glucose                      41.2500\n",
              "BloodPressure                18.0000\n",
              "SkinThickness                32.0000\n",
              "Insulin                     127.2500\n",
              "BMI                           9.3000\n",
              "DiabetesPedigreeFunction      0.3825\n",
              "Age                          17.0000\n",
              "Outcome                       1.0000\n",
              "dtype: float64"
            ]
          },
          "metadata": {},
          "execution_count": 10
        }
      ]
    },
    {
      "cell_type": "code",
      "source": [
        "# getting outliers\n",
        "\n",
        "diabetes_outliers = diabetes[((diabetes<(Q1 - 1.5 * IQR))| (diabetes> (Q3+1.5* IQR))).any(axis=1)]\n",
        "\n",
        "diabetes_outliers.shape\n"
      ],
      "metadata": {
        "colab": {
          "base_uri": "https://localhost:8080/"
        },
        "id": "npN9rfYJ9A3q",
        "outputId": "abd62be6-9cf7-4263-8539-9f29480c8981"
      },
      "execution_count": null,
      "outputs": [
        {
          "output_type": "execute_result",
          "data": {
            "text/plain": [
              "(129, 9)"
            ]
          },
          "metadata": {},
          "execution_count": 15
        }
      ]
    },
    {
      "cell_type": "markdown",
      "metadata": {
        "id": "xvs-X851ZAb_"
      },
      "source": [
        "## <font color='#2F4F4F'>3. Data Analysis</font>"
      ]
    },
    {
      "cell_type": "markdown",
      "metadata": {
        "id": "pSm8G5AsZAcA"
      },
      "source": [
        "### 3.1 General Analysis"
      ]
    },
    {
      "cell_type": "code",
      "metadata": {
        "id": "1ppD3jdkZAcB",
        "colab": {
          "base_uri": "https://localhost:8080/",
          "height": 350
        },
        "outputId": "7cbbeabc-849b-44d9-b077-8dde90283ea6"
      },
      "source": [
        "# distribution of Pregnancies\n",
        "fig, axes = plt.subplots(nrows = 1, ncols = 2, figsize = (12, 4))\n",
        "\n",
        "plt.subplot(1, 2, 1)\n",
        "diabetes.Pregnancies.hist(color = '#ff7f0e')\n",
        "plt.title('Histogram of Pregnancies')\n",
        "\n",
        "plt.subplot(1, 2, 2)\n",
        "sns.boxplot(diabetes.Pregnancies, color = '#9467bd')\n",
        "plt.title('Box plot of Pregnancies')\n",
        "\n",
        "plt.show()"
      ],
      "execution_count": null,
      "outputs": [
        {
          "output_type": "stream",
          "name": "stderr",
          "text": [
            "/usr/local/lib/python3.7/dist-packages/seaborn/_decorators.py:43: FutureWarning: Pass the following variable as a keyword arg: x. From version 0.12, the only valid positional argument will be `data`, and passing other arguments without an explicit keyword will result in an error or misinterpretation.\n",
            "  FutureWarning\n"
          ]
        },
        {
          "output_type": "display_data",
          "data": {
            "image/png": "[encoded data removed]",
            "text/plain": [
              "<Figure size 864x288 with 2 Axes>"
            ]
          },
          "metadata": {
            "needs_background": "light"
          }
        }
      ]
    },
    {
      "cell_type": "code",
      "metadata": {
        "id": "X8yE4EwKZAcP",
        "colab": {
          "base_uri": "https://localhost:8080/"
        },
        "outputId": "767ddeb8-f267-4c97-eaee-fada5e8f38ef"
      },
      "source": [
        "# summary statistics of Pregnancies\n",
        "diabetes.Pregnancies.describe()"
      ],
      "execution_count": null,
      "outputs": [
        {
          "output_type": "execute_result",
          "data": {
            "text/plain": [
              "count    768.000000\n",
              "mean       3.845052\n",
              "std        3.369578\n",
              "min        0.000000\n",
              "25%        1.000000\n",
              "50%        3.000000\n",
              "75%        6.000000\n",
              "max       17.000000\n",
              "Name: Pregnancies, dtype: float64"
            ]
          },
          "metadata": {},
          "execution_count": 17
        }
      ]
    },
    {
      "cell_type": "markdown",
      "metadata": {
        "id": "fPpMNHkiZAcY"
      },
      "source": [
        "What do you observe about the Pregnancies variable?"
      ]
    },
    {
      "cell_type": "code",
      "metadata": {
        "id": "Yg-wm651ZAcY"
      },
      "source": [
        "# we have mean of pregnancies is 3.8 and data is skewed to the right. positive skew"
      ],
      "execution_count": null,
      "outputs": []
    },
    {
      "cell_type": "code",
      "metadata": {
        "id": "cY1vqvh2ZAce",
        "colab": {
          "base_uri": "https://localhost:8080/",
          "height": 350
        },
        "outputId": "c80671f3-6f36-4e46-ed60-2d3b6e8c713a"
      },
      "source": [
        "# distribution of Glucose\n",
        "\n",
        "\n",
        "# HINT: use the code used for glucose\n",
        "\n",
        "\n",
        "# distribution of glucose\n",
        "fig, axes = plt.subplots(nrows = 1, ncols = 2, figsize = (12, 4))\n",
        "\n",
        "plt.subplot(1, 2, 1)\n",
        "diabetes.Glucose.hist(color = '#ff7f0e')\n",
        "plt.title('Histogram of Glucose')\n",
        "\n",
        "plt.subplot(1, 2, 2)\n",
        "sns.boxplot(diabetes.Glucose, color = '#9467bd')\n",
        "plt.title('Box plot of Glucose')\n",
        "\n",
        "plt.show()\n"
      ],
      "execution_count": null,
      "outputs": [
        {
          "output_type": "stream",
          "name": "stderr",
          "text": [
            "/usr/local/lib/python3.7/dist-packages/seaborn/_decorators.py:43: FutureWarning: Pass the following variable as a keyword arg: x. From version 0.12, the only valid positional argument will be `data`, and passing other arguments without an explicit keyword will result in an error or misinterpretation.\n",
            "  FutureWarning\n"
          ]
        },
        {
          "output_type": "display_data",
          "data": {
            "image/png": "[encoded data removed]",
            "text/plain": [
              "<Figure size 864x288 with 2 Axes>"
            ]
          },
          "metadata": {
            "needs_background": "light"
          }
        }
      ]
    },
    {
      "cell_type": "code",
      "metadata": {
        "id": "xfKKayNNZAcj",
        "colab": {
          "base_uri": "https://localhost:8080/"
        },
        "outputId": "7c0095b6-4333-4cb1-ca7e-41d77a1ca45c"
      },
      "source": [
        "# summary statistics of Glucose\n",
        "\n",
        "diabetes.Glucose.describe()"
      ],
      "execution_count": null,
      "outputs": [
        {
          "output_type": "execute_result",
          "data": {
            "text/plain": [
              "count    768.000000\n",
              "mean     120.894531\n",
              "std       31.972618\n",
              "min        0.000000\n",
              "25%       99.000000\n",
              "50%      117.000000\n",
              "75%      140.250000\n",
              "max      199.000000\n",
              "Name: Glucose, dtype: float64"
            ]
          },
          "metadata": {},
          "execution_count": 19
        }
      ]
    },
    {
      "cell_type": "markdown",
      "metadata": {
        "id": "cV7layUoZAcm"
      },
      "source": [
        "What do you observe about the Glucose variable?"
      ]
    },
    {
      "cell_type": "code",
      "metadata": {
        "id": "KEGK2U7RZAcn"
      },
      "source": [
        "#the mean for glucose is 120 and the data is skewed to the right. mean> median. positive skew"
      ],
      "execution_count": null,
      "outputs": []
    },
    {
      "cell_type": "code",
      "metadata": {
        "id": "zVUfjFBhZAcv",
        "colab": {
          "base_uri": "https://localhost:8080/",
          "height": 350
        },
        "outputId": "d322fd80-5770-49e8-c348-63b8daefae86"
      },
      "source": [
        "# distribution of BloodPressure\n",
        "\n",
        "\n",
        "# HINT: use the code used for Pregnancies\n",
        "\n",
        "\n",
        "# distribution of BloodPressure\n",
        "\n",
        "fig, axes = plt.subplots(nrows = 1, ncols = 2, figsize = (12, 4))\n",
        "\n",
        "plt.subplot(1, 2, 1)\n",
        "diabetes.BloodPressure.hist(color = '#ff7f0e')\n",
        "plt.title('Histogram of BloodPressure')\n",
        "\n",
        "plt.subplot(1, 2, 2)\n",
        "sns.boxplot(diabetes.BloodPressure, color = '#9467bd')\n",
        "plt.title('Box plot of BloodPressure')\n",
        "\n",
        "plt.show()"
      ],
      "execution_count": null,
      "outputs": [
        {
          "output_type": "stream",
          "name": "stderr",
          "text": [
            "/usr/local/lib/python3.7/dist-packages/seaborn/_decorators.py:43: FutureWarning: Pass the following variable as a keyword arg: x. From version 0.12, the only valid positional argument will be `data`, and passing other arguments without an explicit keyword will result in an error or misinterpretation.\n",
            "  FutureWarning\n"
          ]
        },
        {
          "output_type": "display_data",
          "data": {
            "image/png": "[encoded data removed]",
            "text/plain": [
              "<Figure size 864x288 with 2 Axes>"
            ]
          },
          "metadata": {
            "needs_background": "light"
          }
        }
      ]
    },
    {
      "cell_type": "code",
      "metadata": {
        "id": "p6_BfRIIZAcz",
        "colab": {
          "base_uri": "https://localhost:8080/"
        },
        "outputId": "930ff5ff-1f1b-486d-ca03-e307833a653d"
      },
      "source": [
        "# summary statistics of BloodPressure\n",
        "\n",
        "\n",
        "\n",
        "diabetes.BloodPressure.describe()"
      ],
      "execution_count": null,
      "outputs": [
        {
          "output_type": "execute_result",
          "data": {
            "text/plain": [
              "count    768.000000\n",
              "mean      69.105469\n",
              "std       19.355807\n",
              "min        0.000000\n",
              "25%       62.000000\n",
              "50%       72.000000\n",
              "75%       80.000000\n",
              "max      122.000000\n",
              "Name: BloodPressure, dtype: float64"
            ]
          },
          "metadata": {},
          "execution_count": 21
        }
      ]
    },
    {
      "cell_type": "markdown",
      "metadata": {
        "id": "sDiu5Aj-ZAc4"
      },
      "source": [
        "Note your observations."
      ]
    },
    {
      "cell_type": "code",
      "metadata": {
        "id": "z7TuQ78TZAc4"
      },
      "source": [
        "#mean is 69. greater than the median skewed to the left. negative skew"
      ],
      "execution_count": null,
      "outputs": []
    },
    {
      "cell_type": "code",
      "metadata": {
        "id": "xXqEyOlvZAc9",
        "colab": {
          "base_uri": "https://localhost:8080/",
          "height": 350
        },
        "outputId": "0bb1a6e6-96a6-4005-d775-7988e81fa2c6"
      },
      "source": [
        "# distribution of SkinThickness\n",
        "\n",
        "#YOUR CODE HERE\n",
        "# HINT: use the code used for Pregnancies\n",
        "\n",
        "fig, axes = plt.subplots(nrows = 1, ncols = 2, figsize = (12, 4))\n",
        "\n",
        "plt.subplot(1, 2, 1)\n",
        "diabetes.SkinThickness.hist(color = '#ff7f0e')\n",
        "plt.title('Histogram of SkinThickness')\n",
        "\n",
        "plt.subplot(1, 2, 2)\n",
        "sns.boxplot(diabetes.SkinThickness, color = '#9467bd')\n",
        "plt.title('Box plot of SkinThickness')\n",
        "\n",
        "plt.show()"
      ],
      "execution_count": null,
      "outputs": [
        {
          "output_type": "stream",
          "name": "stderr",
          "text": [
            "/usr/local/lib/python3.7/dist-packages/seaborn/_decorators.py:43: FutureWarning: Pass the following variable as a keyword arg: x. From version 0.12, the only valid positional argument will be `data`, and passing other arguments without an explicit keyword will result in an error or misinterpretation.\n",
            "  FutureWarning\n"
          ]
        },
        {
          "output_type": "display_data",
          "data": {
            "image/png": "[encoded data removed]",
            "text/plain": [
              "<Figure size 864x288 with 2 Axes>"
            ]
          },
          "metadata": {
            "needs_background": "light"
          }
        }
      ]
    },
    {
      "cell_type": "code",
      "metadata": {
        "id": "CsgtvCAnZAdB",
        "colab": {
          "base_uri": "https://localhost:8080/"
        },
        "outputId": "4aded9bd-f738-433f-ada4-e779289b4bb7"
      },
      "source": [
        "# summary statistics of SkinThickness\n",
        "\n",
        "diabetes.SkinThickness.describe()"
      ],
      "execution_count": null,
      "outputs": [
        {
          "output_type": "execute_result",
          "data": {
            "text/plain": [
              "count    768.000000\n",
              "mean      20.536458\n",
              "std       15.952218\n",
              "min        0.000000\n",
              "25%        0.000000\n",
              "50%       23.000000\n",
              "75%       32.000000\n",
              "max       99.000000\n",
              "Name: SkinThickness, dtype: float64"
            ]
          },
          "metadata": {},
          "execution_count": 24
        }
      ]
    },
    {
      "cell_type": "markdown",
      "metadata": {
        "id": "wBiwdAAXZAdE"
      },
      "source": [
        "Note your observations."
      ]
    },
    {
      "cell_type": "code",
      "metadata": {
        "id": "kiI8imp_ZAdF"
      },
      "source": [
        "# the mean is 20.. median is 23. skew to the left.  negative skew"
      ],
      "execution_count": null,
      "outputs": []
    },
    {
      "cell_type": "code",
      "metadata": {
        "id": "II8w8PDnZAdI",
        "colab": {
          "base_uri": "https://localhost:8080/",
          "height": 350
        },
        "outputId": "b2b3c380-3a2d-40b5-9b5d-9a60a8662863"
      },
      "source": [
        "# distribution of Insulin\n",
        "\n",
        "#YOUR CODE HERE\n",
        "# HINT: use the code used for Pregnancies\n",
        "\n",
        "fig, axes = plt.subplots(nrows = 1, ncols = 2, figsize = (12, 4))\n",
        "\n",
        "plt.subplot(1, 2, 1)\n",
        "diabetes.Insulin.hist(color = '#ff7f0e')\n",
        "plt.title('Histogram of Insulin')\n",
        "\n",
        "plt.subplot(1, 2, 2)\n",
        "sns.boxplot(diabetes.Insulin, color = '#9467bd')\n",
        "plt.title('Box plot of Insulin')\n",
        "\n",
        "plt.show()\n",
        "\n"
      ],
      "execution_count": null,
      "outputs": [
        {
          "output_type": "stream",
          "name": "stderr",
          "text": [
            "/usr/local/lib/python3.7/dist-packages/seaborn/_decorators.py:43: FutureWarning: Pass the following variable as a keyword arg: x. From version 0.12, the only valid positional argument will be `data`, and passing other arguments without an explicit keyword will result in an error or misinterpretation.\n",
            "  FutureWarning\n"
          ]
        },
        {
          "output_type": "display_data",
          "data": {
            "image/png": "[encoded data removed]",
            "text/plain": [
              "<Figure size 864x288 with 2 Axes>"
            ]
          },
          "metadata": {
            "needs_background": "light"
          }
        }
      ]
    },
    {
      "cell_type": "code",
      "metadata": {
        "id": "jIGBJ72zZAdM",
        "colab": {
          "base_uri": "https://localhost:8080/"
        },
        "outputId": "ca3d6ae6-f088-413d-fdf4-b28bec96b9df"
      },
      "source": [
        "# summary statistics of Insulin\n",
        "\n",
        "diabetes.Insulin.describe()"
      ],
      "execution_count": null,
      "outputs": [
        {
          "output_type": "execute_result",
          "data": {
            "text/plain": [
              "count    768.000000\n",
              "mean      79.799479\n",
              "std      115.244002\n",
              "min        0.000000\n",
              "25%        0.000000\n",
              "50%       30.500000\n",
              "75%      127.250000\n",
              "max      846.000000\n",
              "Name: Insulin, dtype: float64"
            ]
          },
          "metadata": {},
          "execution_count": 26
        }
      ]
    },
    {
      "cell_type": "markdown",
      "metadata": {
        "id": "rOh7fLbtZAdR"
      },
      "source": [
        "Note your observations."
      ]
    },
    {
      "cell_type": "code",
      "metadata": {
        "id": "zAjnV5q7ZAdS"
      },
      "source": [
        "# mean is 79 greater than median hence positive skew. right skewed."
      ],
      "execution_count": null,
      "outputs": []
    },
    {
      "cell_type": "code",
      "metadata": {
        "id": "Rofh9sMEZAdV",
        "colab": {
          "base_uri": "https://localhost:8080/",
          "height": 350
        },
        "outputId": "5c9d983c-cba7-4715-f892-1bbf1b85810c"
      },
      "source": [
        "# distribution of BMI\n",
        "\n",
        "#YOUR CODE HERE\n",
        "# HINT: use the code used for Pregnancies\n",
        "\n",
        "fig, axes = plt.subplots(nrows = 1, ncols = 2, figsize = (12, 4))\n",
        "\n",
        "plt.subplot(1, 2, 1)\n",
        "diabetes.BMI.hist(color = '#ff7f0e')\n",
        "plt.title('Histogram of BMI')\n",
        "\n",
        "plt.subplot(1, 2, 2)\n",
        "sns.boxplot(diabetes.BMI, color = '#9467bd')\n",
        "plt.title('Box plot of BMI')\n",
        "\n",
        "plt.show()\n"
      ],
      "execution_count": null,
      "outputs": [
        {
          "output_type": "stream",
          "name": "stderr",
          "text": [
            "/usr/local/lib/python3.7/dist-packages/seaborn/_decorators.py:43: FutureWarning: Pass the following variable as a keyword arg: x. From version 0.12, the only valid positional argument will be `data`, and passing other arguments without an explicit keyword will result in an error or misinterpretation.\n",
            "  FutureWarning\n"
          ]
        },
        {
          "output_type": "display_data",
          "data": {
            "image/png": "[encoded data removed]",
            "text/plain": [
              "<Figure size 864x288 with 2 Axes>"
            ]
          },
          "metadata": {
            "needs_background": "light"
          }
        }
      ]
    },
    {
      "cell_type": "code",
      "metadata": {
        "id": "XGHN1uQZZAdb",
        "colab": {
          "base_uri": "https://localhost:8080/"
        },
        "outputId": "7fb1a584-9153-40f1-ac16-62eed9997d9c"
      },
      "source": [
        "# summary statistics of BMI\n",
        "\n",
        "diabetes.BMI.describe()"
      ],
      "execution_count": null,
      "outputs": [
        {
          "output_type": "execute_result",
          "data": {
            "text/plain": [
              "count    768.000000\n",
              "mean      31.992578\n",
              "std        7.884160\n",
              "min        0.000000\n",
              "25%       27.300000\n",
              "50%       32.000000\n",
              "75%       36.600000\n",
              "max       67.100000\n",
              "Name: BMI, dtype: float64"
            ]
          },
          "metadata": {},
          "execution_count": 28
        }
      ]
    },
    {
      "cell_type": "markdown",
      "metadata": {
        "id": "ys3iv5khZAdh"
      },
      "source": [
        "Note your observations."
      ]
    },
    {
      "cell_type": "code",
      "metadata": {
        "id": "sR01j2udZAdi"
      },
      "source": [
        "#median and mean almost same value.. min difference. data is evenly distributed."
      ],
      "execution_count": null,
      "outputs": []
    },
    {
      "cell_type": "code",
      "metadata": {
        "id": "OT1xGAOtZAdl",
        "colab": {
          "base_uri": "https://localhost:8080/",
          "height": 350
        },
        "outputId": "51454d0d-baed-4858-c526-72a4a633ca25"
      },
      "source": [
        "# distribution of DiabetesPedigreeFunction\n",
        "\n",
        "#YOUR CODE HERE\n",
        "# HINT: use the code used for Pregnancies\n",
        "\n",
        "fig, axes = plt.subplots(nrows = 1, ncols = 2, figsize = (12, 4))\n",
        "\n",
        "plt.subplot(1, 2, 1)\n",
        "diabetes.DiabetesPedigreeFunction.hist(color = '#ff7f0e')\n",
        "plt.title('Histogram of DiabetesPedigreeFunction')\n",
        "\n",
        "plt.subplot(1, 2, 2)\n",
        "sns.boxplot(diabetes.DiabetesPedigreeFunction, color = '#9467bd')\n",
        "plt.title('Box plot of DiabetesPedigreeFunction')\n",
        "\n",
        "plt.show()\n"
      ],
      "execution_count": null,
      "outputs": [
        {
          "output_type": "stream",
          "name": "stderr",
          "text": [
            "/usr/local/lib/python3.7/dist-packages/seaborn/_decorators.py:43: FutureWarning: Pass the following variable as a keyword arg: x. From version 0.12, the only valid positional argument will be `data`, and passing other arguments without an explicit keyword will result in an error or misinterpretation.\n",
            "  FutureWarning\n"
          ]
        },
        {
          "output_type": "display_data",
          "data": {
            "image/png": "[encoded data removed]",
            "text/plain": [
              "<Figure size 864x288 with 2 Axes>"
            ]
          },
          "metadata": {
            "needs_background": "light"
          }
        }
      ]
    },
    {
      "cell_type": "code",
      "metadata": {
        "id": "L8OBUCJqZAdo",
        "colab": {
          "base_uri": "https://localhost:8080/"
        },
        "outputId": "247eab6e-f4a2-4ca2-f63d-e3b212a551e5"
      },
      "source": [
        "# summary statistics of DiabetesPedigreeFunction\n",
        "\n",
        "diabetes.DiabetesPedigreeFunction.describe()"
      ],
      "execution_count": null,
      "outputs": [
        {
          "output_type": "execute_result",
          "data": {
            "text/plain": [
              "count    768.000000\n",
              "mean       0.471876\n",
              "std        0.331329\n",
              "min        0.078000\n",
              "25%        0.243750\n",
              "50%        0.372500\n",
              "75%        0.626250\n",
              "max        2.420000\n",
              "Name: DiabetesPedigreeFunction, dtype: float64"
            ]
          },
          "metadata": {},
          "execution_count": 13
        }
      ]
    },
    {
      "cell_type": "markdown",
      "metadata": {
        "id": "_lzYOoTYZAdr"
      },
      "source": [
        "Note your observations."
      ]
    },
    {
      "cell_type": "code",
      "metadata": {
        "id": "KaAWLP3FZAds"
      },
      "source": [
        "# mean is greater than median. data is right skewed. positive skew."
      ],
      "execution_count": null,
      "outputs": []
    },
    {
      "cell_type": "code",
      "metadata": {
        "id": "BpRC_5DKZAdy",
        "colab": {
          "base_uri": "https://localhost:8080/",
          "height": 350
        },
        "outputId": "2c16f720-d0e1-4a22-9eae-cf2ce454408a"
      },
      "source": [
        "# distribution of Age\n",
        "\n",
        "#YOUR CODE HERE\n",
        "# HINT: use the code used for Pregnancies\n",
        "\n",
        "fig, axes = plt.subplots(nrows = 1, ncols = 2, figsize = (12, 4))\n",
        "\n",
        "plt.subplot(1, 2, 1)\n",
        "diabetes.Age.hist(color = '#ff7f0e')\n",
        "plt.title('Histogram of Age')\n",
        "\n",
        "plt.subplot(1, 2, 2)\n",
        "sns.boxplot(diabetes.Age, color = '#9467bd')\n",
        "plt.title('Box plot of Age')\n",
        "\n",
        "plt.show()\n"
      ],
      "execution_count": null,
      "outputs": [
        {
          "output_type": "stream",
          "name": "stderr",
          "text": [
            "/usr/local/lib/python3.7/dist-packages/seaborn/_decorators.py:43: FutureWarning: Pass the following variable as a keyword arg: x. From version 0.12, the only valid positional argument will be `data`, and passing other arguments without an explicit keyword will result in an error or misinterpretation.\n",
            "  FutureWarning\n"
          ]
        },
        {
          "output_type": "display_data",
          "data": {
            "image/png": "[encoded data removed]",
            "text/plain": [
              "<Figure size 864x288 with 2 Axes>"
            ]
          },
          "metadata": {
            "needs_background": "light"
          }
        }
      ]
    },
    {
      "cell_type": "code",
      "metadata": {
        "id": "w3hJyT8XZAd9",
        "colab": {
          "base_uri": "https://localhost:8080/"
        },
        "outputId": "648b5b2f-6d0c-4fed-d8d0-09edeaa668b9"
      },
      "source": [
        "# summary statistics of Age\n",
        "\n",
        "diabetes.Age.describe()"
      ],
      "execution_count": null,
      "outputs": [
        {
          "output_type": "execute_result",
          "data": {
            "text/plain": [
              "count    768.000000\n",
              "mean      33.240885\n",
              "std       11.760232\n",
              "min       21.000000\n",
              "25%       24.000000\n",
              "50%       29.000000\n",
              "75%       41.000000\n",
              "max       81.000000\n",
              "Name: Age, dtype: float64"
            ]
          },
          "metadata": {},
          "execution_count": 33
        }
      ]
    },
    {
      "cell_type": "markdown",
      "metadata": {
        "id": "qXjFest4ZAeB"
      },
      "source": [
        "Note your observations."
      ]
    },
    {
      "cell_type": "code",
      "metadata": {
        "id": "MSgkBWM6ZAeB"
      },
      "source": [
        "# mean is greater than median. data is right skewed. positive skew."
      ],
      "execution_count": null,
      "outputs": []
    },
    {
      "cell_type": "code",
      "metadata": {
        "id": "wPEWGehNZAeE",
        "colab": {
          "base_uri": "https://localhost:8080/",
          "height": 704
        },
        "outputId": "2bf24787-e3b8-4799-db95-f081129a6664"
      },
      "source": [
        "# distribution of outcome - create a pie chart\n",
        "\n",
        "\n",
        "# Prepare \n",
        "\n",
        "outcome = diabetes[\"Outcome\"]\n",
        "pregnancy = diabetes[\"Pregnancies\"]\n",
        "explode = (0, 0, 0.1, 0, 0)\n",
        "\n",
        "# Render\n",
        "plt.figure(figsize=(8, 5))\n",
        "plt.pie(outcome, labels = pregnancy, explode = 1.2, startangle = 120, autopct = '%.0f%%')\n",
        "\n",
        "# Tweak & Label\n",
        "plt.title('outcome and pregnancy', fontdict= {'fontname': 'Serif', 'fontsize': 12})  \n",
        "\n",
        "# Display\n",
        "plt.show()\n"
      ],
      "execution_count": null,
      "outputs": [
        {
          "output_type": "error",
          "ename": "TypeError",
          "evalue": "ignored",
          "traceback": [
            "\u001b[0;31m---------------------------------------------------------------------------\u001b[0m",
            "\u001b[0;31mTypeError\u001b[0m                                 Traceback (most recent call last)",
            "\u001b[0;32m<ipython-input-20-88880c3264c0>\u001b[0m in \u001b[0;36m<module>\u001b[0;34m()\u001b[0m\n\u001b[1;32m     10\u001b[0m \u001b[0;31m# Render\u001b[0m\u001b[0;34m\u001b[0m\u001b[0;34m\u001b[0m\u001b[0;34m\u001b[0m\u001b[0m\n\u001b[1;32m     11\u001b[0m \u001b[0mplt\u001b[0m\u001b[0;34m.\u001b[0m\u001b[0mfigure\u001b[0m\u001b[0;34m(\u001b[0m\u001b[0mfigsize\u001b[0m\u001b[0;34m=\u001b[0m\u001b[0;34m(\u001b[0m\u001b[0;36m8\u001b[0m\u001b[0;34m,\u001b[0m \u001b[0;36m5\u001b[0m\u001b[0;34m)\u001b[0m\u001b[0;34m)\u001b[0m\u001b[0;34m\u001b[0m\u001b[0;34m\u001b[0m\u001b[0m\n\u001b[0;32m---> 12\u001b[0;31m \u001b[0mplt\u001b[0m\u001b[0;34m.\u001b[0m\u001b[0mpie\u001b[0m\u001b[0;34m(\u001b[0m\u001b[0moutcome\u001b[0m\u001b[0;34m,\u001b[0m \u001b[0mlabels\u001b[0m \u001b[0;34m=\u001b[0m \u001b[0mpregnancy\u001b[0m\u001b[0;34m,\u001b[0m \u001b[0mexplode\u001b[0m \u001b[0;34m=\u001b[0m \u001b[0;36m1.2\u001b[0m\u001b[0;34m,\u001b[0m \u001b[0mstartangle\u001b[0m \u001b[0;34m=\u001b[0m \u001b[0;36m120\u001b[0m\u001b[0;34m,\u001b[0m \u001b[0mautopct\u001b[0m \u001b[0;34m=\u001b[0m \u001b[0;34m'%.0f%%'\u001b[0m\u001b[0;34m)\u001b[0m\u001b[0;34m\u001b[0m\u001b[0;34m\u001b[0m\u001b[0m\n\u001b[0m\u001b[1;32m     13\u001b[0m \u001b[0;34m\u001b[0m\u001b[0m\n\u001b[1;32m     14\u001b[0m \u001b[0;31m# Tweak & Label\u001b[0m\u001b[0;34m\u001b[0m\u001b[0;34m\u001b[0m\u001b[0;34m\u001b[0m\u001b[0m\n",
            "\u001b[0;32m/usr/local/lib/python3.7/dist-packages/matplotlib/pyplot.py\u001b[0m in \u001b[0;36mpie\u001b[0;34m(x, explode, labels, colors, autopct, pctdistance, shadow, labeldistance, startangle, radius, counterclock, wedgeprops, textprops, center, frame, rotatelabels, data)\u001b[0m\n\u001b[1;32m   2753\u001b[0m         \u001b[0mwedgeprops\u001b[0m\u001b[0;34m=\u001b[0m\u001b[0mwedgeprops\u001b[0m\u001b[0;34m,\u001b[0m \u001b[0mtextprops\u001b[0m\u001b[0;34m=\u001b[0m\u001b[0mtextprops\u001b[0m\u001b[0;34m,\u001b[0m \u001b[0mcenter\u001b[0m\u001b[0;34m=\u001b[0m\u001b[0mcenter\u001b[0m\u001b[0;34m,\u001b[0m\u001b[0;34m\u001b[0m\u001b[0;34m\u001b[0m\u001b[0m\n\u001b[1;32m   2754\u001b[0m         frame=frame, rotatelabels=rotatelabels, **({\"data\": data} if\n\u001b[0;32m-> 2755\u001b[0;31m         data is not None else {}))\n\u001b[0m\u001b[1;32m   2756\u001b[0m \u001b[0;34m\u001b[0m\u001b[0m\n\u001b[1;32m   2757\u001b[0m \u001b[0;34m\u001b[0m\u001b[0m\n",
            "\u001b[0;32m/usr/local/lib/python3.7/dist-packages/matplotlib/__init__.py\u001b[0m in \u001b[0;36minner\u001b[0;34m(ax, data, *args, **kwargs)\u001b[0m\n\u001b[1;32m   1563\u001b[0m     \u001b[0;32mdef\u001b[0m \u001b[0minner\u001b[0m\u001b[0;34m(\u001b[0m\u001b[0max\u001b[0m\u001b[0;34m,\u001b[0m \u001b[0;34m*\u001b[0m\u001b[0margs\u001b[0m\u001b[0;34m,\u001b[0m \u001b[0mdata\u001b[0m\u001b[0;34m=\u001b[0m\u001b[0;32mNone\u001b[0m\u001b[0;34m,\u001b[0m \u001b[0;34m**\u001b[0m\u001b[0mkwargs\u001b[0m\u001b[0;34m)\u001b[0m\u001b[0;34m:\u001b[0m\u001b[0;34m\u001b[0m\u001b[0;34m\u001b[0m\u001b[0m\n\u001b[1;32m   1564\u001b[0m         \u001b[0;32mif\u001b[0m \u001b[0mdata\u001b[0m \u001b[0;32mis\u001b[0m \u001b[0;32mNone\u001b[0m\u001b[0;34m:\u001b[0m\u001b[0;34m\u001b[0m\u001b[0;34m\u001b[0m\u001b[0m\n\u001b[0;32m-> 1565\u001b[0;31m             \u001b[0;32mreturn\u001b[0m \u001b[0mfunc\u001b[0m\u001b[0;34m(\u001b[0m\u001b[0max\u001b[0m\u001b[0;34m,\u001b[0m \u001b[0;34m*\u001b[0m\u001b[0mmap\u001b[0m\u001b[0;34m(\u001b[0m\u001b[0msanitize_sequence\u001b[0m\u001b[0;34m,\u001b[0m \u001b[0margs\u001b[0m\u001b[0;34m)\u001b[0m\u001b[0;34m,\u001b[0m \u001b[0;34m**\u001b[0m\u001b[0mkwargs\u001b[0m\u001b[0;34m)\u001b[0m\u001b[0;34m\u001b[0m\u001b[0;34m\u001b[0m\u001b[0m\n\u001b[0m\u001b[1;32m   1566\u001b[0m \u001b[0;34m\u001b[0m\u001b[0m\n\u001b[1;32m   1567\u001b[0m         \u001b[0mbound\u001b[0m \u001b[0;34m=\u001b[0m \u001b[0mnew_sig\u001b[0m\u001b[0;34m.\u001b[0m\u001b[0mbind\u001b[0m\u001b[0;34m(\u001b[0m\u001b[0max\u001b[0m\u001b[0;34m,\u001b[0m \u001b[0;34m*\u001b[0m\u001b[0margs\u001b[0m\u001b[0;34m,\u001b[0m \u001b[0;34m**\u001b[0m\u001b[0mkwargs\u001b[0m\u001b[0;34m)\u001b[0m\u001b[0;34m\u001b[0m\u001b[0;34m\u001b[0m\u001b[0m\n",
            "\u001b[0;32m/usr/local/lib/python3.7/dist-packages/matplotlib/axes/_axes.py\u001b[0m in \u001b[0;36mpie\u001b[0;34m(self, x, explode, labels, colors, autopct, pctdistance, shadow, labeldistance, startangle, radius, counterclock, wedgeprops, textprops, center, frame, rotatelabels)\u001b[0m\n\u001b[1;32m   2928\u001b[0m         \u001b[0;32mif\u001b[0m \u001b[0mlen\u001b[0m\u001b[0;34m(\u001b[0m\u001b[0mx\u001b[0m\u001b[0;34m)\u001b[0m \u001b[0;34m!=\u001b[0m \u001b[0mlen\u001b[0m\u001b[0;34m(\u001b[0m\u001b[0mlabels\u001b[0m\u001b[0;34m)\u001b[0m\u001b[0;34m:\u001b[0m\u001b[0;34m\u001b[0m\u001b[0;34m\u001b[0m\u001b[0m\n\u001b[1;32m   2929\u001b[0m             \u001b[0;32mraise\u001b[0m \u001b[0mValueError\u001b[0m\u001b[0;34m(\u001b[0m\u001b[0;34m\"'label' must be of length 'x'\"\u001b[0m\u001b[0;34m)\u001b[0m\u001b[0;34m\u001b[0m\u001b[0;34m\u001b[0m\u001b[0m\n\u001b[0;32m-> 2930\u001b[0;31m         \u001b[0;32mif\u001b[0m \u001b[0mlen\u001b[0m\u001b[0;34m(\u001b[0m\u001b[0mx\u001b[0m\u001b[0;34m)\u001b[0m \u001b[0;34m!=\u001b[0m \u001b[0mlen\u001b[0m\u001b[0;34m(\u001b[0m\u001b[0mexplode\u001b[0m\u001b[0;34m)\u001b[0m\u001b[0;34m:\u001b[0m\u001b[0;34m\u001b[0m\u001b[0;34m\u001b[0m\u001b[0m\n\u001b[0m\u001b[1;32m   2931\u001b[0m             \u001b[0;32mraise\u001b[0m \u001b[0mValueError\u001b[0m\u001b[0;34m(\u001b[0m\u001b[0;34m\"'explode' must be of length 'x'\"\u001b[0m\u001b[0;34m)\u001b[0m\u001b[0;34m\u001b[0m\u001b[0;34m\u001b[0m\u001b[0m\n\u001b[1;32m   2932\u001b[0m         \u001b[0;32mif\u001b[0m \u001b[0mcolors\u001b[0m \u001b[0;32mis\u001b[0m \u001b[0;32mNone\u001b[0m\u001b[0;34m:\u001b[0m\u001b[0;34m\u001b[0m\u001b[0;34m\u001b[0m\u001b[0m\n",
            "\u001b[0;31mTypeError\u001b[0m: object of type 'float' has no len()"
          ]
        },
        {
          "output_type": "display_data",
          "data": {
            "image/png": "[encoded data removed]",
            "text/plain": [
              "<Figure size 576x360 with 1 Axes>"
            ]
          },
          "metadata": {
            "needs_background": "light"
          }
        }
      ]
    },
    {
      "cell_type": "markdown",
      "metadata": {
        "id": "_3RFBJyyZAeG"
      },
      "source": [
        "Note your observations."
      ]
    },
    {
      "cell_type": "markdown",
      "metadata": {
        "id": "3lxiprbCZAeH"
      },
      "source": [
        "### 3.2 Research-Specific Analysis"
      ]
    },
    {
      "cell_type": "markdown",
      "metadata": {
        "id": "Va1fXT7BZAeH"
      },
      "source": [
        "Since our research question requires us to discover the factors that determine whether a patient has diabetes or not, we will make the 'Outcome' variable our main focus during this analysis."
      ]
    },
    {
      "cell_type": "code",
      "metadata": {
        "id": "Xx1ijV3fZAeI",
        "colab": {
          "base_uri": "https://localhost:8080/",
          "height": 350
        },
        "outputId": "de5c6dc7-a8fd-4520-f4dd-911305a466ef"
      },
      "source": [
        "# box and bar plots of Pregnancies by Outcome\n",
        "fig, axes = plt.subplots(nrows = 1, ncols = 2, figsize = (12, 4))\n",
        "\n",
        "plt.subplot(1, 2, 1)\n",
        "sns.barplot(data = diabetes, x = 'Outcome', y = 'Pregnancies')\n",
        "plt.title('Bar plot of Outcome by Pregnancies')\n",
        "\n",
        "plt.subplot(1, 2, 2)\n",
        "sns.boxplot(diabetes.Pregnancies, diabetes.Outcome, orient = 'h')\n",
        "plt.title('Box plot of Pregnancies by Outcome')\n",
        "\n",
        "plt.show()"
      ],
      "execution_count": null,
      "outputs": [
        {
          "output_type": "stream",
          "name": "stderr",
          "text": [
            "/usr/local/lib/python3.7/dist-packages/seaborn/_decorators.py:43: FutureWarning: Pass the following variables as keyword args: x, y. From version 0.12, the only valid positional argument will be `data`, and passing other arguments without an explicit keyword will result in an error or misinterpretation.\n",
            "  FutureWarning\n"
          ]
        },
        {
          "output_type": "display_data",
          "data": {
            "image/png": "[encoded data removed]",
            "text/plain": [
              "<Figure size 864x288 with 2 Axes>"
            ]
          },
          "metadata": {
            "needs_background": "light"
          }
        }
      ]
    },
    {
      "cell_type": "markdown",
      "metadata": {
        "id": "uY8bKfbsZAeN"
      },
      "source": [
        "What do you notice?"
      ]
    },
    {
      "cell_type": "code",
      "metadata": {
        "id": "8KTAXcdEZAeO"
      },
      "source": [
        "#left skewed . positive skew. pregnancy does determine diabetes"
      ],
      "execution_count": null,
      "outputs": []
    },
    {
      "cell_type": "code",
      "metadata": {
        "id": "db8v0fvRZAeQ",
        "colab": {
          "base_uri": "https://localhost:8080/",
          "height": 350
        },
        "outputId": "c0fad0b1-80fd-483b-eae8-bac6e96beb38"
      },
      "source": [
        "# box and bar plots of Glucose by Outcome\n",
        "\n",
        "#YOUR CODE HERE\n",
        "# HINT: use the code used for Pregnancies\n",
        "\n",
        "fig, axes = plt.subplots(nrows = 1, ncols = 2, figsize = (12, 4))\n",
        "\n",
        "plt.subplot(1, 2, 1)\n",
        "sns.barplot(data = diabetes, x = 'Outcome', y = 'Glucose')\n",
        "plt.title('Bar plot of Outcome by Glucose')\n",
        "\n",
        "plt.subplot(1, 2, 2)\n",
        "sns.boxplot(diabetes.Glucose, diabetes.Outcome, orient = 'h')\n",
        "plt.title('Box plot of Glucose by Outcome')\n",
        "\n",
        "plt.show()"
      ],
      "execution_count": null,
      "outputs": [
        {
          "output_type": "stream",
          "name": "stderr",
          "text": [
            "/usr/local/lib/python3.7/dist-packages/seaborn/_decorators.py:43: FutureWarning: Pass the following variables as keyword args: x, y. From version 0.12, the only valid positional argument will be `data`, and passing other arguments without an explicit keyword will result in an error or misinterpretation.\n",
            "  FutureWarning\n"
          ]
        },
        {
          "output_type": "display_data",
          "data": {
            "image/png": "[encoded data removed]",
            "text/plain": [
              "<Figure size 864x288 with 2 Axes>"
            ]
          },
          "metadata": {
            "needs_background": "light"
          }
        }
      ]
    },
    {
      "cell_type": "markdown",
      "metadata": {
        "id": "xneiKQtLZAeT"
      },
      "source": [
        "Note your observartions."
      ]
    },
    {
      "cell_type": "code",
      "metadata": {
        "id": "BJWhpiSXZAeT"
      },
      "source": [
        "#left skewed . positive skew. glucose does determine diabetes chances"
      ],
      "execution_count": null,
      "outputs": []
    },
    {
      "cell_type": "code",
      "metadata": {
        "id": "RIdeopqYZAeb",
        "colab": {
          "base_uri": "https://localhost:8080/",
          "height": 350
        },
        "outputId": "a23c1d14-8564-42e2-d0c1-566bc33cd6a2"
      },
      "source": [
        "# box and bar plots of BloodPressure by Outcome\n",
        "\n",
        "#YOUR CODE HERE\n",
        "# HINT: use the code used for Pregnancies\n",
        "\n",
        "fig, axes = plt.subplots(nrows = 1, ncols = 2, figsize = (12, 4))\n",
        "\n",
        "plt.subplot(1, 2, 1)\n",
        "sns.barplot(data = diabetes, x = 'Outcome', y = 'BloodPressure')\n",
        "plt.title('Bar plot of Outcome by BloodPressure')\n",
        "\n",
        "plt.subplot(1, 2, 2)\n",
        "sns.boxplot(diabetes.BloodPressure, diabetes.Outcome, orient = 'h')\n",
        "plt.title('Box plot of BloodPressure by Outcome')\n",
        "\n",
        "plt.show()\n"
      ],
      "execution_count": null,
      "outputs": [
        {
          "output_type": "stream",
          "name": "stderr",
          "text": [
            "/usr/local/lib/python3.7/dist-packages/seaborn/_decorators.py:43: FutureWarning: Pass the following variables as keyword args: x, y. From version 0.12, the only valid positional argument will be `data`, and passing other arguments without an explicit keyword will result in an error or misinterpretation.\n",
            "  FutureWarning\n"
          ]
        },
        {
          "output_type": "display_data",
          "data": {
            "image/png": "[encoded data removed]",
            "text/plain": [
              "<Figure size 864x288 with 2 Axes>"
            ]
          },
          "metadata": {
            "needs_background": "light"
          }
        }
      ]
    },
    {
      "cell_type": "markdown",
      "metadata": {
        "id": "7B1cClwXZAei"
      },
      "source": [
        "Note your observations."
      ]
    },
    {
      "cell_type": "code",
      "metadata": {
        "id": "cLlJfhzjZAei"
      },
      "source": [
        "#data is evenly distributed."
      ],
      "execution_count": null,
      "outputs": []
    },
    {
      "cell_type": "code",
      "metadata": {
        "id": "YSN2Cy6tZAfV",
        "colab": {
          "base_uri": "https://localhost:8080/",
          "height": 350
        },
        "outputId": "eb926588-658f-4535-8e25-1a3eca463e17"
      },
      "source": [
        "# box and bar plots of SkinThickness by Outcome\n",
        "\n",
        "#YOUR CODE HERE\n",
        "# HINT: use the code used for Pregnancies\n",
        "\n",
        "fig, axes = plt.subplots(nrows = 1, ncols = 2, figsize = (12, 4))\n",
        "\n",
        "plt.subplot(1, 2, 1)\n",
        "sns.barplot(data = diabetes, x = 'Outcome', y = 'SkinThickness')\n",
        "plt.title('Bar plot of Outcome by SkinThickness')\n",
        "\n",
        "plt.subplot(1, 2, 2)\n",
        "sns.boxplot(diabetes.SkinThickness, diabetes.Outcome, orient = 'h')\n",
        "plt.title('Box plot of SkinThickness by Outcome')\n",
        "\n",
        "plt.show()"
      ],
      "execution_count": null,
      "outputs": [
        {
          "output_type": "stream",
          "name": "stderr",
          "text": [
            "/usr/local/lib/python3.7/dist-packages/seaborn/_decorators.py:43: FutureWarning: Pass the following variables as keyword args: x, y. From version 0.12, the only valid positional argument will be `data`, and passing other arguments without an explicit keyword will result in an error or misinterpretation.\n",
            "  FutureWarning\n"
          ]
        },
        {
          "output_type": "display_data",
          "data": {
            "image/png": "[encoded data removed]",
            "text/plain": [
              "<Figure size 864x288 with 2 Axes>"
            ]
          },
          "metadata": {
            "needs_background": "light"
          }
        }
      ]
    },
    {
      "cell_type": "markdown",
      "metadata": {
        "id": "xUEyx7VVZAfd"
      },
      "source": [
        "Note your observations."
      ]
    },
    {
      "cell_type": "code",
      "metadata": {
        "id": "2P-I2UD_ZAfe"
      },
      "source": [
        "#left skewed . positive skew. SkinThickness doesnt determine diabetes"
      ],
      "execution_count": null,
      "outputs": []
    },
    {
      "cell_type": "code",
      "metadata": {
        "id": "TOTTE_rKZAge",
        "colab": {
          "base_uri": "https://localhost:8080/",
          "height": 350
        },
        "outputId": "67e4f938-4bb0-41f8-ef74-41538634a495"
      },
      "source": [
        "# box and bar plots of Insulin by Outcome\n",
        "\n",
        "#YOUR CODE HERE\n",
        "# HINT: use the code used for Pregnancies\n",
        "\n",
        "fig, axes = plt.subplots(nrows = 1, ncols = 2, figsize = (12, 4))\n",
        "\n",
        "plt.subplot(1, 2, 1)\n",
        "sns.barplot(data = diabetes, x = 'Outcome', y = 'Insulin')\n",
        "plt.title('Bar plot of Outcome by Insulin')\n",
        "\n",
        "plt.subplot(1, 2, 2)\n",
        "sns.boxplot(diabetes.Insulin, diabetes.Outcome, orient = 'h')\n",
        "plt.title('Box plot of Insulin by Outcome')\n",
        "\n",
        "plt.show()"
      ],
      "execution_count": null,
      "outputs": [
        {
          "output_type": "stream",
          "name": "stderr",
          "text": [
            "/usr/local/lib/python3.7/dist-packages/seaborn/_decorators.py:43: FutureWarning: Pass the following variables as keyword args: x, y. From version 0.12, the only valid positional argument will be `data`, and passing other arguments without an explicit keyword will result in an error or misinterpretation.\n",
            "  FutureWarning\n"
          ]
        },
        {
          "output_type": "display_data",
          "data": {
            "image/png": "[encoded data removed]",
            "text/plain": [
              "<Figure size 864x288 with 2 Axes>"
            ]
          },
          "metadata": {
            "needs_background": "light"
          }
        }
      ]
    },
    {
      "cell_type": "markdown",
      "metadata": {
        "id": "LMptMt3aZAgs"
      },
      "source": [
        "Note your observations."
      ]
    },
    {
      "cell_type": "code",
      "metadata": {
        "id": "oxbIJ2H_ZAgv"
      },
      "source": [
        "#left skewed . positive skew. insulin does determine diabetes"
      ],
      "execution_count": null,
      "outputs": []
    },
    {
      "cell_type": "code",
      "metadata": {
        "id": "KZcufW3vZAg4",
        "colab": {
          "base_uri": "https://localhost:8080/",
          "height": 350
        },
        "outputId": "3f95b0f8-2725-40ca-8f4f-a0d5189c7b12"
      },
      "source": [
        "# box and bar plots of BMI by Outcome\n",
        "\n",
        "#YOUR CODE HERE\n",
        "# HINT: use the code used for Pregnancies\n",
        "\n",
        "\n",
        "fig, axes = plt.subplots(nrows = 1, ncols = 2, figsize = (12, 4))\n",
        "\n",
        "plt.subplot(1, 2, 1)\n",
        "sns.barplot(data = diabetes, x = 'Outcome', y = 'BMI')\n",
        "plt.title('Bar plot of Outcome by BMI')\n",
        "\n",
        "plt.subplot(1, 2, 2)\n",
        "sns.boxplot(diabetes.BMI, diabetes.Outcome, orient = 'h')\n",
        "plt.title('Box plot of BMI by Outcome')\n",
        "\n",
        "plt.show()"
      ],
      "execution_count": null,
      "outputs": [
        {
          "output_type": "stream",
          "name": "stderr",
          "text": [
            "/usr/local/lib/python3.7/dist-packages/seaborn/_decorators.py:43: FutureWarning: Pass the following variables as keyword args: x, y. From version 0.12, the only valid positional argument will be `data`, and passing other arguments without an explicit keyword will result in an error or misinterpretation.\n",
            "  FutureWarning\n"
          ]
        },
        {
          "output_type": "display_data",
          "data": {
            "image/png": "[encoded data removed]",
            "text/plain": [
              "<Figure size 864x288 with 2 Axes>"
            ]
          },
          "metadata": {
            "needs_background": "light"
          }
        }
      ]
    },
    {
      "cell_type": "markdown",
      "metadata": {
        "id": "Wa86BMksZAg7"
      },
      "source": [
        "Note your observations."
      ]
    },
    {
      "cell_type": "code",
      "metadata": {
        "id": "YoGE5KOAZAg8"
      },
      "source": [
        "#left skewed . positive skew. bmi does determine diabetes"
      ],
      "execution_count": null,
      "outputs": []
    },
    {
      "cell_type": "code",
      "metadata": {
        "id": "7yT9cCtNZAg_",
        "colab": {
          "base_uri": "https://localhost:8080/",
          "height": 350
        },
        "outputId": "2098af1f-212f-4435-dd69-c42a9fa3c3cd"
      },
      "source": [
        "# box and bar plots of DiabetesPedigreeFunction by Outcome\n",
        "\n",
        "#YOUR CODE HERE\n",
        "# HINT: use the code used for Pregnancies\n",
        "\n",
        "fig, axes = plt.subplots(nrows = 1, ncols = 2, figsize = (12, 4))\n",
        "\n",
        "plt.subplot(1, 2, 1)\n",
        "sns.barplot(data = diabetes, x = 'Outcome', y = 'DiabetesPedigreeFunction')\n",
        "plt.title('Bar plot of Outcome by DiabetesPedigreeFunction')\n",
        "\n",
        "plt.subplot(1, 2, 2)\n",
        "sns.boxplot(diabetes.DiabetesPedigreeFunction, diabetes.Outcome, orient = 'h')\n",
        "plt.title('Box plot of DiabetesPedigreeFunction by Outcome')\n",
        "\n",
        "plt.show()"
      ],
      "execution_count": null,
      "outputs": [
        {
          "output_type": "stream",
          "name": "stderr",
          "text": [
            "/usr/local/lib/python3.7/dist-packages/seaborn/_decorators.py:43: FutureWarning: Pass the following variables as keyword args: x, y. From version 0.12, the only valid positional argument will be `data`, and passing other arguments without an explicit keyword will result in an error or misinterpretation.\n",
            "  FutureWarning\n"
          ]
        },
        {
          "output_type": "display_data",
          "data": {
            "image/png": "[encoded data removed]",
            "text/plain": [
              "<Figure size 864x288 with 2 Axes>"
            ]
          },
          "metadata": {
            "needs_background": "light"
          }
        }
      ]
    },
    {
      "cell_type": "markdown",
      "metadata": {
        "id": "_sZMWv-SZAhC"
      },
      "source": [
        "Note your observations."
      ]
    },
    {
      "cell_type": "code",
      "metadata": {
        "id": "zXiqffAFZAhC"
      },
      "source": [
        "#left skewed . positive skew. DiabetesPedigreeFunction does determine diabetes"
      ],
      "execution_count": null,
      "outputs": []
    },
    {
      "cell_type": "code",
      "metadata": {
        "id": "S8eDoOzMZAhN",
        "colab": {
          "base_uri": "https://localhost:8080/",
          "height": 350
        },
        "outputId": "60ef31a7-1b62-4d0b-8182-d8ca15616625"
      },
      "source": [
        "# box and bar plots of Age by Outcome\n",
        "\n",
        "#YOUR CODE HERE\n",
        "# HINT: use the code used for Pregnancies\n",
        "\n",
        "fig, axes = plt.subplots(nrows = 1, ncols = 2, figsize = (12, 4))\n",
        "\n",
        "plt.subplot(1, 2, 1)\n",
        "sns.barplot(data = diabetes, x = 'Outcome', y = 'Age')\n",
        "plt.title('Bar plot of Outcome by Age')\n",
        "\n",
        "plt.subplot(1, 2, 2)\n",
        "sns.boxplot(diabetes.Age, diabetes.Outcome, orient = 'h')\n",
        "plt.title('Box plot of Age by Outcome')\n",
        "\n",
        "plt.show()"
      ],
      "execution_count": null,
      "outputs": [
        {
          "output_type": "stream",
          "name": "stderr",
          "text": [
            "/usr/local/lib/python3.7/dist-packages/seaborn/_decorators.py:43: FutureWarning: Pass the following variables as keyword args: x, y. From version 0.12, the only valid positional argument will be `data`, and passing other arguments without an explicit keyword will result in an error or misinterpretation.\n",
            "  FutureWarning\n"
          ]
        },
        {
          "output_type": "display_data",
          "data": {
            "image/png": "[encoded data removed]",
            "text/plain": [
              "<Figure size 864x288 with 2 Axes>"
            ]
          },
          "metadata": {
            "needs_background": "light"
          }
        }
      ]
    },
    {
      "cell_type": "markdown",
      "metadata": {
        "id": "E14nQPS5ZAhW"
      },
      "source": [
        "Note your observations. "
      ]
    },
    {
      "cell_type": "code",
      "source": [
        "#left skewed . positive skew. age doesnt determine diabetes"
      ],
      "metadata": {
        "id": "6HJxGroC0VVd"
      },
      "execution_count": null,
      "outputs": []
    },
    {
      "cell_type": "markdown",
      "metadata": {
        "id": "vTbdjSrhVIiT"
      },
      "source": [
        "## <font color='#2F4F4F'>4. Summary of Findings</font>"
      ]
    },
    {
      "cell_type": "code",
      "source": [
        ""
      ],
      "metadata": {
        "id": "UNMeDoaD0UoQ"
      },
      "execution_count": null,
      "outputs": []
    },
    {
      "cell_type": "markdown",
      "metadata": {
        "id": "PdHyc8WYHlAG"
      },
      "source": [
        "Interpret and summarize the findings of your analysis.\n",
        "1. factors like pregnancy, insulin,  determine likelyhood of geting diabetes.\n",
        "2. some factors i.e age doesnt determine diabetes."
      ]
    },
    {
      "cell_type": "markdown",
      "metadata": {
        "id": "noZz5YRQXKzi"
      },
      "source": [
        "## <font color='#2F4F4F'>5. Recommendations</font>"
      ]
    },
    {
      "cell_type": "markdown",
      "metadata": {
        "id": "wdMBFVe0XSgf"
      },
      "source": [
        "What would you recommend the NGO Hospital to do based on the findings of your analysis?\n",
        "1. education on prevention of diabetes through reduction of sugar intake. \n",
        "2. management of insulin during pregnancy."
      ]
    },
    {
      "cell_type": "markdown",
      "metadata": {
        "id": "xrmHVMVsVS--"
      },
      "source": [
        "## <font color='#2F4F4F'>6. Challenging your Solution</font>"
      ]
    },
    {
      "cell_type": "markdown",
      "metadata": {
        "id": "HPQviDmNtta8"
      },
      "source": [
        "### a) Did we have the right data?\n",
        "yes. it answered my question."
      ]
    },
    {
      "cell_type": "markdown",
      "metadata": {
        "id": "CbQa-2odZAhb"
      },
      "source": [
        "### b) Did we have the right question?\n",
        "yes. data available was able to answer the question. \n"
      ]
    }
  ]
}