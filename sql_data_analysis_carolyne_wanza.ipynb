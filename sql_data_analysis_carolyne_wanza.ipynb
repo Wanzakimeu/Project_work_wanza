{
  "nbformat": 4,
  "nbformat_minor": 0,
  "metadata": {
    "colab": {
      "name": "sql data analysis- carolyne wanza",
      "provenance": [],
      "collapsed_sections": [],
      "toc_visible": true
    },
    "kernelspec": {
      "name": "python3",
      "display_name": "Python 3"
    },
    "language_info": {
      "name": "python"
    }
  },
  "cells": [
    {
      "cell_type": "code",
      "metadata": {
        "id": "OrgHwnHeoBM2"
      },
      "source": [
        "%load_ext sql"
      ],
      "execution_count": 3,
      "outputs": []
    },
    {
      "cell_type": "markdown",
      "source": [
        "# New Section"
      ],
      "metadata": {
        "id": "yEfy_1eFcdW3"
      }
    },
    {
      "cell_type": "code",
      "metadata": {
        "colab": {
          "base_uri": "https://localhost:8080/",
          "height": 35
        },
        "id": "7QhRcaKio5Xk",
        "outputId": "802be018-3809-44e0-8f4e-5952e9acbdeb"
      },
      "source": [
        "%sql sqlite://"
      ],
      "execution_count": 4,
      "outputs": [
        {
          "output_type": "execute_result",
          "data": {
            "application/vnd.google.colaboratory.intrinsic+json": {
              "type": "string"
            },
            "text/plain": [
              "'Connected: @None'"
            ]
          },
          "metadata": {},
          "execution_count": 4
        }
      ]
    },
    {
      "cell_type": "code",
      "metadata": {
        "id": "yPRpZcoYo7OQ"
      },
      "source": [
        "import pandas as pd"
      ],
      "execution_count": 5,
      "outputs": []
    },
    {
      "cell_type": "code",
      "metadata": {
        "id": "P_-7ZokOpBW3",
        "colab": {
          "base_uri": "https://localhost:8080/"
        },
        "outputId": "46a2ad22-90ee-44a0-9053-b73f63e29399"
      },
      "source": [
        "weatherdb = pd.read_csv('weather.csv')\n",
        "weatherdb.shape"
      ],
      "execution_count": 6,
      "outputs": [
        {
          "output_type": "execute_result",
          "data": {
            "text/plain": [
              "(6276, 8)"
            ]
          },
          "metadata": {},
          "execution_count": 6
        }
      ]
    },
    {
      "cell_type": "code",
      "metadata": {
        "id": "UXoHu0g4q-jA"
      },
      "source": [
        "cab_ridesdb2 = pd.read_csv('cab_rides.csv')"
      ],
      "execution_count": 7,
      "outputs": []
    },
    {
      "cell_type": "code",
      "metadata": {
        "colab": {
          "base_uri": "https://localhost:8080/"
        },
        "id": "20L8Z_cXrN4O",
        "outputId": "d6aec443-675d-4fc2-efcc-f729a4fbde38"
      },
      "source": [
        "cab_ridesdb2.shape\n"
      ],
      "execution_count": 8,
      "outputs": [
        {
          "output_type": "execute_result",
          "data": {
            "text/plain": [
              "(693071, 10)"
            ]
          },
          "metadata": {},
          "execution_count": 8
        }
      ]
    },
    {
      "cell_type": "code",
      "metadata": {
        "colab": {
          "base_uri": "https://localhost:8080/",
          "height": 206
        },
        "id": "V82xBjU-rUKc",
        "outputId": "a75d2902-b9a3-44fd-82bd-0ededabb8b93"
      },
      "source": [
        "cab_ridesdb2.head(5)"
      ],
      "execution_count": 9,
      "outputs": [
        {
          "output_type": "execute_result",
          "data": {
            "text/html": [
              "<div>\n",
              "<style scoped>\n",
              "    .dataframe tbody tr th:only-of-type {\n",
              "        vertical-align: middle;\n",
              "    }\n",
              "\n",
              "    .dataframe tbody tr th {\n",
              "        vertical-align: top;\n",
              "    }\n",
              "\n",
              "    .dataframe thead th {\n",
              "        text-align: right;\n",
              "    }\n",
              "</style>\n",
              "<table border=\"1\" class=\"dataframe\">\n",
              "  <thead>\n",
              "    <tr style=\"text-align: right;\">\n",
              "      <th></th>\n",
              "      <th>distance</th>\n",
              "      <th>cab_type</th>\n",
              "      <th>time_stamp</th>\n",
              "      <th>destination</th>\n",
              "      <th>source</th>\n",
              "      <th>price</th>\n",
              "      <th>surge_multiplier</th>\n",
              "      <th>id</th>\n",
              "      <th>product_id</th>\n",
              "      <th>name</th>\n",
              "    </tr>\n",
              "  </thead>\n",
              "  <tbody>\n",
              "    <tr>\n",
              "      <th>0</th>\n",
              "      <td>0.44</td>\n",
              "      <td>Lyft</td>\n",
              "      <td>1.544950e+12</td>\n",
              "      <td>North Station</td>\n",
              "      <td>Haymarket Square</td>\n",
              "      <td>5.0</td>\n",
              "      <td>1.0</td>\n",
              "      <td>424553bb-7174-41ea-aeb4-fe06d4f4b9d7</td>\n",
              "      <td>lyft_line</td>\n",
              "      <td>Shared</td>\n",
              "    </tr>\n",
              "    <tr>\n",
              "      <th>1</th>\n",
              "      <td>0.44</td>\n",
              "      <td>Lyft</td>\n",
              "      <td>1.544950e+12</td>\n",
              "      <td>North Station</td>\n",
              "      <td>Haymarket Square</td>\n",
              "      <td>11.0</td>\n",
              "      <td>1.0</td>\n",
              "      <td>4bd23055-6827-41c6-b23b-3c491f24e74d</td>\n",
              "      <td>lyft_premier</td>\n",
              "      <td>Lux</td>\n",
              "    </tr>\n",
              "    <tr>\n",
              "      <th>2</th>\n",
              "      <td>0.44</td>\n",
              "      <td>Lyft</td>\n",
              "      <td>1.544950e+12</td>\n",
              "      <td>North Station</td>\n",
              "      <td>Haymarket Square</td>\n",
              "      <td>7.0</td>\n",
              "      <td>1.0</td>\n",
              "      <td>981a3613-77af-4620-a42a-0c0866077d1e</td>\n",
              "      <td>lyft</td>\n",
              "      <td>Lyft</td>\n",
              "    </tr>\n",
              "    <tr>\n",
              "      <th>3</th>\n",
              "      <td>0.44</td>\n",
              "      <td>Lyft</td>\n",
              "      <td>1.544950e+12</td>\n",
              "      <td>North Station</td>\n",
              "      <td>Haymarket Square</td>\n",
              "      <td>26.0</td>\n",
              "      <td>1.0</td>\n",
              "      <td>c2d88af2-d278-4bfd-a8d0-29ca77cc5512</td>\n",
              "      <td>lyft_luxsuv</td>\n",
              "      <td>Lux Black XL</td>\n",
              "    </tr>\n",
              "    <tr>\n",
              "      <th>4</th>\n",
              "      <td>0.44</td>\n",
              "      <td>Lyft</td>\n",
              "      <td>1.544950e+12</td>\n",
              "      <td>North Station</td>\n",
              "      <td>Haymarket Square</td>\n",
              "      <td>9.0</td>\n",
              "      <td>1.0</td>\n",
              "      <td>e0126e1f-8ca9-4f2e-82b3-50505a09db9a</td>\n",
              "      <td>lyft_plus</td>\n",
              "      <td>Lyft XL</td>\n",
              "    </tr>\n",
              "  </tbody>\n",
              "</table>\n",
              "</div>"
            ],
            "text/plain": [
              "   distance cab_type  ...    product_id          name\n",
              "0      0.44     Lyft  ...     lyft_line        Shared\n",
              "1      0.44     Lyft  ...  lyft_premier           Lux\n",
              "2      0.44     Lyft  ...          lyft          Lyft\n",
              "3      0.44     Lyft  ...   lyft_luxsuv  Lux Black XL\n",
              "4      0.44     Lyft  ...     lyft_plus       Lyft XL\n",
              "\n",
              "[5 rows x 10 columns]"
            ]
          },
          "metadata": {},
          "execution_count": 9
        }
      ]
    },
    {
      "cell_type": "code",
      "metadata": {
        "colab": {
          "base_uri": "https://localhost:8080/"
        },
        "id": "RIC4HBOIshnD",
        "outputId": "a3c2d999-cb00-4338-a1d8-dc28b3b9de23"
      },
      "source": [
        "%sql DROP TABLE if EXISTS weatherdb;"
      ],
      "execution_count": 10,
      "outputs": [
        {
          "output_type": "stream",
          "name": "stdout",
          "text": [
            " * sqlite://\n",
            "Done.\n"
          ]
        },
        {
          "output_type": "execute_result",
          "data": {
            "text/plain": [
              "[]"
            ]
          },
          "metadata": {},
          "execution_count": 10
        }
      ]
    },
    {
      "cell_type": "code",
      "metadata": {
        "colab": {
          "base_uri": "https://localhost:8080/"
        },
        "id": "KCQcz-G8tjKN",
        "outputId": "8225f874-d196-4572-d5f5-9526c56f1e8f"
      },
      "source": [
        "%sql DROP TABLE if EXISTS cab_ridesdb2;"
      ],
      "execution_count": 11,
      "outputs": [
        {
          "output_type": "stream",
          "name": "stdout",
          "text": [
            " * sqlite://\n",
            "Done.\n"
          ]
        },
        {
          "output_type": "execute_result",
          "data": {
            "text/plain": [
              "[]"
            ]
          },
          "metadata": {},
          "execution_count": 11
        }
      ]
    },
    {
      "cell_type": "code",
      "metadata": {
        "colab": {
          "base_uri": "https://localhost:8080/",
          "height": 53
        },
        "id": "hVTnHfHstpD5",
        "outputId": "3ad3a164-eb08-4864-bbdf-ce81f221ce49"
      },
      "source": [
        "%sql PERSIST weatherdb;"
      ],
      "execution_count": 12,
      "outputs": [
        {
          "output_type": "stream",
          "name": "stdout",
          "text": [
            " * sqlite://\n"
          ]
        },
        {
          "output_type": "execute_result",
          "data": {
            "application/vnd.google.colaboratory.intrinsic+json": {
              "type": "string"
            },
            "text/plain": [
              "'Persisted weatherdb'"
            ]
          },
          "metadata": {},
          "execution_count": 12
        }
      ]
    },
    {
      "cell_type": "code",
      "metadata": {
        "colab": {
          "base_uri": "https://localhost:8080/",
          "height": 53
        },
        "id": "BIERuJ-Wtwbq",
        "outputId": "42a3334a-ded3-4cab-e79f-921dd7a97d1f"
      },
      "source": [
        "%sql PERSIST cab_ridesdb2;\n"
      ],
      "execution_count": 13,
      "outputs": [
        {
          "output_type": "stream",
          "name": "stdout",
          "text": [
            " * sqlite://\n"
          ]
        },
        {
          "output_type": "execute_result",
          "data": {
            "application/vnd.google.colaboratory.intrinsic+json": {
              "type": "string"
            },
            "text/plain": [
              "'Persisted cab_ridesdb2'"
            ]
          },
          "metadata": {},
          "execution_count": 13
        }
      ]
    },
    {
      "cell_type": "code",
      "metadata": {
        "colab": {
          "base_uri": "https://localhost:8080/",
          "height": 182
        },
        "id": "HcGF4JePtrqa",
        "outputId": "f1c9df79-7695-4dc2-b8c6-410e2e53085c"
      },
      "source": [
        "%sql SELECT * FROM weatherdb LIMIT 5;\n"
      ],
      "execution_count": 14,
      "outputs": [
        {
          "output_type": "stream",
          "name": "stdout",
          "text": [
            " * sqlite://\n",
            "Done.\n"
          ]
        },
        {
          "output_type": "execute_result",
          "data": {
            "text/html": [
              "<table>\n",
              "    <thead>\n",
              "        <tr>\n",
              "            <th>index</th>\n",
              "            <th>temp</th>\n",
              "            <th>location</th>\n",
              "            <th>clouds</th>\n",
              "            <th>pressure</th>\n",
              "            <th>rain</th>\n",
              "            <th>time_stamp</th>\n",
              "            <th>humidity</th>\n",
              "            <th>wind</th>\n",
              "        </tr>\n",
              "    </thead>\n",
              "    <tbody>\n",
              "        <tr>\n",
              "            <td>0</td>\n",
              "            <td>42.42</td>\n",
              "            <td>Back Bay</td>\n",
              "            <td>1.0</td>\n",
              "            <td>1012.14</td>\n",
              "            <td>0.1228</td>\n",
              "            <td>1545003901</td>\n",
              "            <td>0.77</td>\n",
              "            <td>11.25</td>\n",
              "        </tr>\n",
              "        <tr>\n",
              "            <td>1</td>\n",
              "            <td>42.43</td>\n",
              "            <td>Beacon Hill</td>\n",
              "            <td>1.0</td>\n",
              "            <td>1012.15</td>\n",
              "            <td>0.1846</td>\n",
              "            <td>1545003901</td>\n",
              "            <td>0.76</td>\n",
              "            <td>11.32</td>\n",
              "        </tr>\n",
              "        <tr>\n",
              "            <td>2</td>\n",
              "            <td>42.5</td>\n",
              "            <td>Boston University</td>\n",
              "            <td>1.0</td>\n",
              "            <td>1012.15</td>\n",
              "            <td>0.1089</td>\n",
              "            <td>1545003901</td>\n",
              "            <td>0.76</td>\n",
              "            <td>11.07</td>\n",
              "        </tr>\n",
              "        <tr>\n",
              "            <td>3</td>\n",
              "            <td>42.11</td>\n",
              "            <td>Fenway</td>\n",
              "            <td>1.0</td>\n",
              "            <td>1012.13</td>\n",
              "            <td>0.0969</td>\n",
              "            <td>1545003901</td>\n",
              "            <td>0.77</td>\n",
              "            <td>11.09</td>\n",
              "        </tr>\n",
              "        <tr>\n",
              "            <td>4</td>\n",
              "            <td>43.13</td>\n",
              "            <td>Financial District</td>\n",
              "            <td>1.0</td>\n",
              "            <td>1012.14</td>\n",
              "            <td>0.1786</td>\n",
              "            <td>1545003901</td>\n",
              "            <td>0.75</td>\n",
              "            <td>11.49</td>\n",
              "        </tr>\n",
              "    </tbody>\n",
              "</table>"
            ],
            "text/plain": [
              "[(0, 42.42, 'Back Bay', 1.0, 1012.14, 0.1228, 1545003901, 0.77, 11.25),\n",
              " (1, 42.43, 'Beacon Hill', 1.0, 1012.15, 0.1846, 1545003901, 0.76, 11.32),\n",
              " (2, 42.5, 'Boston University', 1.0, 1012.15, 0.1089, 1545003901, 0.76, 11.07),\n",
              " (3, 42.11, 'Fenway', 1.0, 1012.13, 0.0969, 1545003901, 0.77, 11.09),\n",
              " (4, 43.13, 'Financial District', 1.0, 1012.14, 0.1786, 1545003901, 0.75, 11.49)]"
            ]
          },
          "metadata": {},
          "execution_count": 14
        }
      ]
    },
    {
      "cell_type": "code",
      "metadata": {
        "colab": {
          "base_uri": "https://localhost:8080/",
          "height": 182
        },
        "id": "cXdA7nNut_AG",
        "outputId": "469c8514-625b-498f-b7e9-f74fb94ecdb1"
      },
      "source": [
        "%sql SELECT * FROM cab_ridesdb2 LIMIT 5;"
      ],
      "execution_count": 15,
      "outputs": [
        {
          "output_type": "stream",
          "name": "stdout",
          "text": [
            " * sqlite://\n",
            "Done.\n"
          ]
        },
        {
          "output_type": "execute_result",
          "data": {
            "text/html": [
              "<table>\n",
              "    <thead>\n",
              "        <tr>\n",
              "            <th>index</th>\n",
              "            <th>distance</th>\n",
              "            <th>cab_type</th>\n",
              "            <th>time_stamp</th>\n",
              "            <th>destination</th>\n",
              "            <th>source</th>\n",
              "            <th>price</th>\n",
              "            <th>surge_multiplier</th>\n",
              "            <th>id</th>\n",
              "            <th>product_id</th>\n",
              "            <th>name</th>\n",
              "        </tr>\n",
              "    </thead>\n",
              "    <tbody>\n",
              "        <tr>\n",
              "            <td>0</td>\n",
              "            <td>0.44</td>\n",
              "            <td>Lyft</td>\n",
              "            <td>1544950000000.0</td>\n",
              "            <td>North Station</td>\n",
              "            <td>Haymarket Square</td>\n",
              "            <td>5.0</td>\n",
              "            <td>1.0</td>\n",
              "            <td>424553bb-7174-41ea-aeb4-fe06d4f4b9d7</td>\n",
              "            <td>lyft_line</td>\n",
              "            <td>Shared</td>\n",
              "        </tr>\n",
              "        <tr>\n",
              "            <td>1</td>\n",
              "            <td>0.44</td>\n",
              "            <td>Lyft</td>\n",
              "            <td>1544950000000.0</td>\n",
              "            <td>North Station</td>\n",
              "            <td>Haymarket Square</td>\n",
              "            <td>11.0</td>\n",
              "            <td>1.0</td>\n",
              "            <td>4bd23055-6827-41c6-b23b-3c491f24e74d</td>\n",
              "            <td>lyft_premier</td>\n",
              "            <td>Lux</td>\n",
              "        </tr>\n",
              "        <tr>\n",
              "            <td>2</td>\n",
              "            <td>0.44</td>\n",
              "            <td>Lyft</td>\n",
              "            <td>1544950000000.0</td>\n",
              "            <td>North Station</td>\n",
              "            <td>Haymarket Square</td>\n",
              "            <td>7.0</td>\n",
              "            <td>1.0</td>\n",
              "            <td>981a3613-77af-4620-a42a-0c0866077d1e</td>\n",
              "            <td>lyft</td>\n",
              "            <td>Lyft</td>\n",
              "        </tr>\n",
              "        <tr>\n",
              "            <td>3</td>\n",
              "            <td>0.44</td>\n",
              "            <td>Lyft</td>\n",
              "            <td>1544950000000.0</td>\n",
              "            <td>North Station</td>\n",
              "            <td>Haymarket Square</td>\n",
              "            <td>26.0</td>\n",
              "            <td>1.0</td>\n",
              "            <td>c2d88af2-d278-4bfd-a8d0-29ca77cc5512</td>\n",
              "            <td>lyft_luxsuv</td>\n",
              "            <td>Lux Black XL</td>\n",
              "        </tr>\n",
              "        <tr>\n",
              "            <td>4</td>\n",
              "            <td>0.44</td>\n",
              "            <td>Lyft</td>\n",
              "            <td>1544950000000.0</td>\n",
              "            <td>North Station</td>\n",
              "            <td>Haymarket Square</td>\n",
              "            <td>9.0</td>\n",
              "            <td>1.0</td>\n",
              "            <td>e0126e1f-8ca9-4f2e-82b3-50505a09db9a</td>\n",
              "            <td>lyft_plus</td>\n",
              "            <td>Lyft XL</td>\n",
              "        </tr>\n",
              "    </tbody>\n",
              "</table>"
            ],
            "text/plain": [
              "[(0, 0.44, 'Lyft', 1544950000000.0, 'North Station', 'Haymarket Square', 5.0, 1.0, '424553bb-7174-41ea-aeb4-fe06d4f4b9d7', 'lyft_line', 'Shared'),\n",
              " (1, 0.44, 'Lyft', 1544950000000.0, 'North Station', 'Haymarket Square', 11.0, 1.0, '4bd23055-6827-41c6-b23b-3c491f24e74d', 'lyft_premier', 'Lux'),\n",
              " (2, 0.44, 'Lyft', 1544950000000.0, 'North Station', 'Haymarket Square', 7.0, 1.0, '981a3613-77af-4620-a42a-0c0866077d1e', 'lyft', 'Lyft'),\n",
              " (3, 0.44, 'Lyft', 1544950000000.0, 'North Station', 'Haymarket Square', 26.0, 1.0, 'c2d88af2-d278-4bfd-a8d0-29ca77cc5512', 'lyft_luxsuv', 'Lux Black XL'),\n",
              " (4, 0.44, 'Lyft', 1544950000000.0, 'North Station', 'Haymarket Square', 9.0, 1.0, 'e0126e1f-8ca9-4f2e-82b3-50505a09db9a', 'lyft_plus', 'Lyft XL')]"
            ]
          },
          "metadata": {},
          "execution_count": 15
        }
      ]
    },
    {
      "cell_type": "markdown",
      "metadata": {
        "id": "D5yYIfHRq92F"
      },
      "source": [
        ""
      ]
    },
    {
      "cell_type": "code",
      "metadata": {
        "colab": {
          "base_uri": "https://localhost:8080/",
          "height": 96
        },
        "id": "B_R3Ja0VwN4o",
        "outputId": "52a968c7-19b9-4b19-c251-77596580c29a"
      },
      "source": [
        "\n",
        "%sql select sum(distance) , cab_type from cab_ridesdb2 where cab_type = 'Lyft'"
      ],
      "execution_count": 16,
      "outputs": [
        {
          "output_type": "stream",
          "name": "stdout",
          "text": [
            " * sqlite://\n",
            "Done.\n"
          ]
        },
        {
          "output_type": "execute_result",
          "data": {
            "text/html": [
              "<table>\n",
              "    <thead>\n",
              "        <tr>\n",
              "            <th>sum(distance)</th>\n",
              "            <th>cab_type</th>\n",
              "        </tr>\n",
              "    </thead>\n",
              "    <tbody>\n",
              "        <tr>\n",
              "            <td>672293.7899999839</td>\n",
              "            <td>Lyft</td>\n",
              "        </tr>\n",
              "    </tbody>\n",
              "</table>"
            ],
            "text/plain": [
              "[(672293.7899999839, 'Lyft')]"
            ]
          },
          "metadata": {},
          "execution_count": 16
        }
      ]
    },
    {
      "cell_type": "code",
      "metadata": {
        "colab": {
          "base_uri": "https://localhost:8080/",
          "height": 96
        },
        "id": "YcFkc6xWxVPA",
        "outputId": "8862a4b9-ec6f-4672-fa2e-325c1719955a"
      },
      "source": [
        " %sql select MAX(price) ,name, cab_type from cab_ridesdb2 where cab_type = 'Lyft' "
      ],
      "execution_count": 28,
      "outputs": [
        {
          "output_type": "stream",
          "name": "stdout",
          "text": [
            " * sqlite://\n",
            "Done.\n"
          ]
        },
        {
          "output_type": "execute_result",
          "data": {
            "text/html": [
              "<table>\n",
              "    <thead>\n",
              "        <tr>\n",
              "            <th>MAX(price)</th>\n",
              "            <th>name</th>\n",
              "            <th>cab_type</th>\n",
              "        </tr>\n",
              "    </thead>\n",
              "    <tbody>\n",
              "        <tr>\n",
              "            <td>97.5</td>\n",
              "            <td>Lux Black XL</td>\n",
              "            <td>Lyft</td>\n",
              "        </tr>\n",
              "    </tbody>\n",
              "</table>"
            ],
            "text/plain": [
              "[(97.5, 'Lux Black XL', 'Lyft')]"
            ]
          },
          "metadata": {},
          "execution_count": 28
        }
      ]
    },
    {
      "cell_type": "code",
      "metadata": {
        "colab": {
          "base_uri": "https://localhost:8080/",
          "height": 96
        },
        "id": "G3QvkSGUyFyi",
        "outputId": "8dc97ae2-cdc9-42f8-c9c3-62097f4b3c30"
      },
      "source": [
        "%sql select MIN(price) from cab_ridesdb2 where cab_type = 'Uber'"
      ],
      "execution_count": 18,
      "outputs": [
        {
          "output_type": "stream",
          "name": "stdout",
          "text": [
            " * sqlite://\n",
            "Done.\n"
          ]
        },
        {
          "output_type": "execute_result",
          "data": {
            "text/html": [
              "<table>\n",
              "    <thead>\n",
              "        <tr>\n",
              "            <th>MIN(price)</th>\n",
              "        </tr>\n",
              "    </thead>\n",
              "    <tbody>\n",
              "        <tr>\n",
              "            <td>4.5</td>\n",
              "        </tr>\n",
              "    </tbody>\n",
              "</table>"
            ],
            "text/plain": [
              "[(4.5,)]"
            ]
          },
          "metadata": {},
          "execution_count": 18
        }
      ]
    },
    {
      "cell_type": "code",
      "metadata": {
        "id": "b7K33eWJxOUu",
        "colab": {
          "base_uri": "https://localhost:8080/",
          "height": 353
        },
        "outputId": "34821620-0463-4adb-eca6-27610313e9f4"
      },
      "source": [
        "%sql select sum(distance), name from cab_ridesdb2 where source = 'Haymarket Square' group by name order by distance asc"
      ],
      "execution_count": 20,
      "outputs": [
        {
          "output_type": "stream",
          "name": "stdout",
          "text": [
            " * sqlite://\n",
            "Done.\n"
          ]
        },
        {
          "output_type": "execute_result",
          "data": {
            "text/html": [
              "<table>\n",
              "    <thead>\n",
              "        <tr>\n",
              "            <th>sum(distance)</th>\n",
              "            <th>name</th>\n",
              "        </tr>\n",
              "    </thead>\n",
              "    <tbody>\n",
              "        <tr>\n",
              "            <td>4949.799999999993</td>\n",
              "            <td>Lux</td>\n",
              "        </tr>\n",
              "        <tr>\n",
              "            <td>4949.7999999999965</td>\n",
              "            <td>Lux Black</td>\n",
              "        </tr>\n",
              "        <tr>\n",
              "            <td>4949.799999999996</td>\n",
              "            <td>Lux Black XL</td>\n",
              "        </tr>\n",
              "        <tr>\n",
              "            <td>4949.79999999999</td>\n",
              "            <td>Lyft</td>\n",
              "        </tr>\n",
              "        <tr>\n",
              "            <td>4949.799999999994</td>\n",
              "            <td>Lyft XL</td>\n",
              "        </tr>\n",
              "        <tr>\n",
              "            <td>4949.799999999992</td>\n",
              "            <td>Shared</td>\n",
              "        </tr>\n",
              "        <tr>\n",
              "            <td>4973.719999999769</td>\n",
              "            <td>Black</td>\n",
              "        </tr>\n",
              "        <tr>\n",
              "            <td>4973.71999999977</td>\n",
              "            <td>Black SUV</td>\n",
              "        </tr>\n",
              "        <tr>\n",
              "            <td>4973.71999999977</td>\n",
              "            <td>Taxi</td>\n",
              "        </tr>\n",
              "        <tr>\n",
              "            <td>4972.579999999765</td>\n",
              "            <td>UberPool</td>\n",
              "        </tr>\n",
              "        <tr>\n",
              "            <td>4973.719999999768</td>\n",
              "            <td>UberX</td>\n",
              "        </tr>\n",
              "        <tr>\n",
              "            <td>4973.719999999768</td>\n",
              "            <td>UberXL</td>\n",
              "        </tr>\n",
              "        <tr>\n",
              "            <td>4973.719999999769</td>\n",
              "            <td>WAV</td>\n",
              "        </tr>\n",
              "    </tbody>\n",
              "</table>"
            ],
            "text/plain": [
              "[(4949.799999999993, 'Lux'),\n",
              " (4949.7999999999965, 'Lux Black'),\n",
              " (4949.799999999996, 'Lux Black XL'),\n",
              " (4949.79999999999, 'Lyft'),\n",
              " (4949.799999999994, 'Lyft XL'),\n",
              " (4949.799999999992, 'Shared'),\n",
              " (4973.719999999769, 'Black'),\n",
              " (4973.71999999977, 'Black SUV'),\n",
              " (4973.71999999977, 'Taxi'),\n",
              " (4972.579999999765, 'UberPool'),\n",
              " (4973.719999999768, 'UberX'),\n",
              " (4973.719999999768, 'UberXL'),\n",
              " (4973.719999999769, 'WAV')]"
            ]
          },
          "metadata": {},
          "execution_count": 20
        }
      ]
    },
    {
      "cell_type": "code",
      "source": [
        "\n",
        "%sql select AVG(temp), location from weatherdb where temp >= 20 group by location order by location asc"
      ],
      "metadata": {
        "colab": {
          "base_uri": "https://localhost:8080/",
          "height": 331
        },
        "id": "uCA4lOObh8jj",
        "outputId": "f68ad1be-757c-4afe-a41d-a597fe4532ac"
      },
      "execution_count": 22,
      "outputs": [
        {
          "output_type": "stream",
          "name": "stdout",
          "text": [
            " * sqlite://\n",
            "Done.\n"
          ]
        },
        {
          "output_type": "execute_result",
          "data": {
            "text/html": [
              "<table>\n",
              "    <thead>\n",
              "        <tr>\n",
              "            <th>AVG(temp)</th>\n",
              "            <th>location</th>\n",
              "        </tr>\n",
              "    </thead>\n",
              "    <tbody>\n",
              "        <tr>\n",
              "            <td>39.15558541266794</td>\n",
              "            <td>Back Bay</td>\n",
              "        </tr>\n",
              "        <tr>\n",
              "            <td>39.0838505747127</td>\n",
              "            <td>Beacon Hill</td>\n",
              "        </tr>\n",
              "        <tr>\n",
              "            <td>39.15930769230766</td>\n",
              "            <td>Boston University</td>\n",
              "        </tr>\n",
              "        <tr>\n",
              "            <td>39.11233140655103</td>\n",
              "            <td>Fenway</td>\n",
              "        </tr>\n",
              "        <tr>\n",
              "            <td>39.41082217973236</td>\n",
              "            <td>Financial District</td>\n",
              "        </tr>\n",
              "        <tr>\n",
              "            <td>39.067896749521985</td>\n",
              "            <td>Haymarket Square</td>\n",
              "        </tr>\n",
              "        <tr>\n",
              "            <td>39.09084130019119</td>\n",
              "            <td>North End</td>\n",
              "        </tr>\n",
              "        <tr>\n",
              "            <td>39.10857965451053</td>\n",
              "            <td>North Station</td>\n",
              "        </tr>\n",
              "        <tr>\n",
              "            <td>39.08544230769229</td>\n",
              "            <td>Northeastern University</td>\n",
              "        </tr>\n",
              "        <tr>\n",
              "            <td>39.39409177820272</td>\n",
              "            <td>South Station</td>\n",
              "        </tr>\n",
              "        <tr>\n",
              "            <td>39.02314176245213</td>\n",
              "            <td>Theatre District</td>\n",
              "        </tr>\n",
              "        <tr>\n",
              "            <td>39.056660268714005</td>\n",
              "            <td>West End</td>\n",
              "        </tr>\n",
              "    </tbody>\n",
              "</table>"
            ],
            "text/plain": [
              "[(39.15558541266794, 'Back Bay'),\n",
              " (39.0838505747127, 'Beacon Hill'),\n",
              " (39.15930769230766, 'Boston University'),\n",
              " (39.11233140655103, 'Fenway'),\n",
              " (39.41082217973236, 'Financial District'),\n",
              " (39.067896749521985, 'Haymarket Square'),\n",
              " (39.09084130019119, 'North End'),\n",
              " (39.10857965451053, 'North Station'),\n",
              " (39.08544230769229, 'Northeastern University'),\n",
              " (39.39409177820272, 'South Station'),\n",
              " (39.02314176245213, 'Theatre District'),\n",
              " (39.056660268714005, 'West End')]"
            ]
          },
          "metadata": {},
          "execution_count": 22
        }
      ]
    },
    {
      "cell_type": "code",
      "source": [
        "%sql select count(location), location from weatherdb where rain is null group by location order by location asc"
      ],
      "metadata": {
        "colab": {
          "base_uri": "https://localhost:8080/",
          "height": 331
        },
        "id": "NFTlmP4piv4m",
        "outputId": "1b2a6c13-e027-4fa4-8d6a-6a97773543d7"
      },
      "execution_count": 25,
      "outputs": [
        {
          "output_type": "stream",
          "name": "stdout",
          "text": [
            " * sqlite://\n",
            "Done.\n"
          ]
        },
        {
          "output_type": "execute_result",
          "data": {
            "text/html": [
              "<table>\n",
              "    <thead>\n",
              "        <tr>\n",
              "            <th>count(location)</th>\n",
              "            <th>location</th>\n",
              "        </tr>\n",
              "    </thead>\n",
              "    <tbody>\n",
              "        <tr>\n",
              "            <td>449</td>\n",
              "            <td>Back Bay</td>\n",
              "        </tr>\n",
              "        <tr>\n",
              "            <td>447</td>\n",
              "            <td>Beacon Hill</td>\n",
              "        </tr>\n",
              "        <tr>\n",
              "            <td>449</td>\n",
              "            <td>Boston University</td>\n",
              "        </tr>\n",
              "        <tr>\n",
              "            <td>453</td>\n",
              "            <td>Fenway</td>\n",
              "        </tr>\n",
              "        <tr>\n",
              "            <td>450</td>\n",
              "            <td>Financial District</td>\n",
              "        </tr>\n",
              "        <tr>\n",
              "            <td>447</td>\n",
              "            <td>Haymarket Square</td>\n",
              "        </tr>\n",
              "        <tr>\n",
              "            <td>446</td>\n",
              "            <td>North End</td>\n",
              "        </tr>\n",
              "        <tr>\n",
              "            <td>443</td>\n",
              "            <td>North Station</td>\n",
              "        </tr>\n",
              "        <tr>\n",
              "            <td>452</td>\n",
              "            <td>Northeastern University</td>\n",
              "        </tr>\n",
              "        <tr>\n",
              "            <td>450</td>\n",
              "            <td>South Station</td>\n",
              "        </tr>\n",
              "        <tr>\n",
              "            <td>450</td>\n",
              "            <td>Theatre District</td>\n",
              "        </tr>\n",
              "        <tr>\n",
              "            <td>446</td>\n",
              "            <td>West End</td>\n",
              "        </tr>\n",
              "    </tbody>\n",
              "</table>"
            ],
            "text/plain": [
              "[(449, 'Back Bay'),\n",
              " (447, 'Beacon Hill'),\n",
              " (449, 'Boston University'),\n",
              " (453, 'Fenway'),\n",
              " (450, 'Financial District'),\n",
              " (447, 'Haymarket Square'),\n",
              " (446, 'North End'),\n",
              " (443, 'North Station'),\n",
              " (452, 'Northeastern University'),\n",
              " (450, 'South Station'),\n",
              " (450, 'Theatre District'),\n",
              " (446, 'West End')]"
            ]
          },
          "metadata": {},
          "execution_count": 25
        }
      ]
    }
  ]
}